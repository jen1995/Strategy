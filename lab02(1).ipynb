{
  "nbformat": 4,
  "nbformat_minor": 0,
  "metadata": {
    "colab": {
      "name": "lab02.ipynb",
      "version": "0.3.2",
      "provenance": []
    },
    "kernelspec": {
      "name": "python3",
      "display_name": "Python 3"
    },
    "accelerator": "GPU"
  },
  "cells": [
    {
      "metadata": {
        "id": "exiVWyV-HLoP",
        "colab_type": "text"
      },
      "cell_type": "markdown",
      "source": [
        "# Лабораторная работа 2. Композиции алгоритмов. Ранжирование.\n",
        "\n",
        "Результат лабораторной работы − отчет. Мы предпочитаем принимать отчеты в формате ноутбуков IPython (ipynb-файл). Постарайтесь сделать ваш отчет интересным рассказом, последовательно отвечающим на вопросы из заданий. Помимо ответов на вопросы, в отчете так же должен быть код, однако чем меньше кода, тем лучше всем: нам − меньше проверять, вам — проще найти ошибку или дополнить эксперимент. При проверке оценивается четкость ответов на вопросы, аккуратность отчета и кода.\n",
        "\n",
        "### Оценивание и штрафы\n",
        "Каждая из задач имеет определенную «стоимость» (указана в скобках около задачи). Максимально допустимая оценка за работу — 15 баллов. Сдавать задание после указанного срока сдачи нельзя. «Похожие» решения считаются плагиатом и все задействованные студенты (в том числе те, у кого списали) не могут получить за него больше 0 баллов и понижают карму (подробнее о плагиате см. на странице курса). Если вы нашли решение какого-то из заданий в открытом источнике, необходимо прислать ссылку на этот источник (скорее всего вы будете не единственным, кто это нашел, поэтому чтобы исключить подозрение в плагиате, нам необходима ссылка на источник).\n",
        "\n",
        "### Правила сдачи\n",
        "Выполненную работу следует отправить в систему Anytask. Более подробно о системе можно почитать на странице курса. Название отправляемого файла должно иметь следующий формат: Surname_Name_Group_NN.ipynb, где NN — номер лабораторной работы. Например, Kozlova_Anna_CS_02.ipynb."
      ]
    },
    {
      "metadata": {
        "id": "uVgJJ4RWHLoU",
        "colab_type": "text"
      },
      "cell_type": "markdown",
      "source": [
        "## Bias-Variance decomposition. Композиции алгоритмов\n",
        "\n",
        "![](http://scott.fortmann-roe.com/docs/docs/BiasVariance/biasvariance.png)\n",
        "\n",
        "Рассмотрим задачу регрессии со среднеквадратичной функцией потерь, а также некоторый алгоритм $a$. Тогда качество алгоритма $a$ может быть записано следующим образом:\n",
        "\n",
        "$$Q(a) = \\mathbb{E}_{X^l} \\mathbb{E}_{x,y}(a(x) - y)^2,$$\n",
        "\n",
        "где первое матожидание вычисляется по всевозможным обучающим выборкам $X^l$ размера $l$. К сожалению, на реальных данных эта формула неприменима из-за невозможности сгенерировать необходимые для оценки данные. Поэтому проведем приближенный численный эксперимент с эмпирическими оценками матожиданий.\n",
        "\n",
        "С помощью бутстраппинга можно просемплировать из обучающей выборки $N$ новых выборок того же размера, тем самым \"имитируя\" пространство всевозможных обучающих выборок, после чего обучить на каждой выбранный алгоритм. Обозначим вектор истинных меток тестовой выборки за $y \\in \\mathbb{R}^{m}$. Векторы прогнозов для объектов из тестовой выборки для каждой модели обозначим за $\\hat{y}_i \\in \\mathbb{R}^{m}, i \\in \\{1, .., N\\}$. Тогда средний квадрат ошибки по всем моделям на тестовой выборке запишется как\n",
        "\n",
        "$$error=\\frac{1}{N}\\sum_{i=1}^{N}MSE(y,\\hat{y}_i).$$\n",
        "\n",
        "Обозначим среднее предсказание за $$\\overline{y} = \\frac{1}{N}\\sum_{i=1}^{N} \\hat{y}_i.$$\n",
        "\n",
        "Тогда квадрат отклонения среднего предсказания и разброс прогнозов относительно среднего предсказания всех моделей на тестовой выборке от истинных меток запишутся следующим образом, соответственно:\n",
        "\n",
        "$$bias^2 = MSE(y, \\overline y),$$\n",
        "\n",
        "$$variance = \\frac{1}{N}\\sum_{i=1}^N MSE(\\hat{y}_i, \\overline y).$$\n"
      ]
    },
    {
      "metadata": {
        "id": "2zopUv9WHLoW",
        "colab_type": "text"
      },
      "cell_type": "markdown",
      "source": [
        "Для начала рассмотрим в качестве алгоритма решающее дерево. Как известно, при увеличении высоты дерева алгоритм может быть сильно чувствителен к составу обучающей выборки. Чтобы подтвердить эти предположения, проведите следующие эксперименты."
      ]
    },
    {
      "metadata": {
        "id": "sGS8es31HLob",
        "colab_type": "text"
      },
      "cell_type": "markdown",
      "source": [
        "Загрузите [набор данных](http://archive.ics.uci.edu/ml/datasets/BlogFeedback). Каждый объект — пост в блоге. Он описывается различными признаками: длина текста поста, наличие наиболее частотных слов, день недели, количество комментариев за последние 24 часа и т.п., а так же целевым признаком — количеством комментариев к посту. Полный список признаков и описание находятся на странице датасета. \n",
        "\n",
        "Разбейте данные из файла **blogData_train.csv** на обучающую и тестовую выборки в пропорциях 1 к 4 соответственно. Обратите внимание, что обучающая выборка меньше тестовой. Такая большая тестовая выборка позволит сделать измерение качества моделей достаточно достоверным. "
      ]
    },
    {
      "metadata": {
        "id": "QwaK2QlPHLoe",
        "colab_type": "code",
        "colab": {}
      },
      "cell_type": "code",
      "source": [
        "import numpy as np\n",
        "import pandas as pd\n",
        "import matplotlib.pyplot as plt\n",
        "import xgboost as xgb\n",
        "import sklearn\n",
        "\n",
        "from sklearn.datasets import load_svmlight_file\n",
        "from sklearn.model_selection import train_test_split, KFold, GridSearchCV\n",
        "from tqdm import tqdm\n",
        "from sklearn.metrics import mean_squared_error\n",
        "from sklearn.metrics import accuracy_score\n",
        "\n",
        "from sklearn.tree import DecisionTreeRegressor\n",
        "from xgboost import XGBRegressor\n",
        "from xgboost import DMatrix\n",
        "\n",
        "from sklearn.neighbors import KNeighborsClassifier\n",
        "from sklearn.linear_model import LinearRegression, LogisticRegression\n",
        "from sklearn.ensemble import RandomForestClassifier\n",
        "from sklearn.svm import LinearSVC\n",
        "from xgboost import XGBClassifier\n",
        "from sklearn.tree import DecisionTreeClassifier"
      ],
      "execution_count": 0,
      "outputs": []
    },
    {
      "metadata": {
        "id": "hsc75OjZHLon",
        "colab_type": "code",
        "colab": {},
        "outputId": "5a257ac6-5530-49db-dbd6-8627e4d959c9"
      },
      "cell_type": "code",
      "source": [
        "df = pd.read_csv('BlogFeedback/blogData_train.csv', header=None)\n",
        "df.head()"
      ],
      "execution_count": 0,
      "outputs": [
        {
          "output_type": "execute_result",
          "data": {
            "text/html": [
              "<div>\n",
              "<style>\n",
              "    .dataframe thead tr:only-child th {\n",
              "        text-align: right;\n",
              "    }\n",
              "\n",
              "    .dataframe thead th {\n",
              "        text-align: left;\n",
              "    }\n",
              "\n",
              "    .dataframe tbody tr th {\n",
              "        vertical-align: top;\n",
              "    }\n",
              "</style>\n",
              "<table border=\"1\" class=\"dataframe\">\n",
              "  <thead>\n",
              "    <tr style=\"text-align: right;\">\n",
              "      <th></th>\n",
              "      <th>0</th>\n",
              "      <th>1</th>\n",
              "      <th>2</th>\n",
              "      <th>3</th>\n",
              "      <th>4</th>\n",
              "      <th>5</th>\n",
              "      <th>6</th>\n",
              "      <th>7</th>\n",
              "      <th>8</th>\n",
              "      <th>9</th>\n",
              "      <th>...</th>\n",
              "      <th>271</th>\n",
              "      <th>272</th>\n",
              "      <th>273</th>\n",
              "      <th>274</th>\n",
              "      <th>275</th>\n",
              "      <th>276</th>\n",
              "      <th>277</th>\n",
              "      <th>278</th>\n",
              "      <th>279</th>\n",
              "      <th>280</th>\n",
              "    </tr>\n",
              "  </thead>\n",
              "  <tbody>\n",
              "    <tr>\n",
              "      <th>0</th>\n",
              "      <td>40.30467</td>\n",
              "      <td>53.845657</td>\n",
              "      <td>0.0</td>\n",
              "      <td>401.0</td>\n",
              "      <td>15.0</td>\n",
              "      <td>15.52416</td>\n",
              "      <td>32.44188</td>\n",
              "      <td>0.0</td>\n",
              "      <td>377.0</td>\n",
              "      <td>3.0</td>\n",
              "      <td>...</td>\n",
              "      <td>0.0</td>\n",
              "      <td>1.0</td>\n",
              "      <td>0.0</td>\n",
              "      <td>0.0</td>\n",
              "      <td>0.0</td>\n",
              "      <td>0.0</td>\n",
              "      <td>0.0</td>\n",
              "      <td>0.0</td>\n",
              "      <td>0.0</td>\n",
              "      <td>1.0</td>\n",
              "    </tr>\n",
              "    <tr>\n",
              "      <th>1</th>\n",
              "      <td>40.30467</td>\n",
              "      <td>53.845657</td>\n",
              "      <td>0.0</td>\n",
              "      <td>401.0</td>\n",
              "      <td>15.0</td>\n",
              "      <td>15.52416</td>\n",
              "      <td>32.44188</td>\n",
              "      <td>0.0</td>\n",
              "      <td>377.0</td>\n",
              "      <td>3.0</td>\n",
              "      <td>...</td>\n",
              "      <td>1.0</td>\n",
              "      <td>0.0</td>\n",
              "      <td>0.0</td>\n",
              "      <td>0.0</td>\n",
              "      <td>0.0</td>\n",
              "      <td>0.0</td>\n",
              "      <td>0.0</td>\n",
              "      <td>0.0</td>\n",
              "      <td>0.0</td>\n",
              "      <td>0.0</td>\n",
              "    </tr>\n",
              "    <tr>\n",
              "      <th>2</th>\n",
              "      <td>40.30467</td>\n",
              "      <td>53.845657</td>\n",
              "      <td>0.0</td>\n",
              "      <td>401.0</td>\n",
              "      <td>15.0</td>\n",
              "      <td>15.52416</td>\n",
              "      <td>32.44188</td>\n",
              "      <td>0.0</td>\n",
              "      <td>377.0</td>\n",
              "      <td>3.0</td>\n",
              "      <td>...</td>\n",
              "      <td>1.0</td>\n",
              "      <td>0.0</td>\n",
              "      <td>0.0</td>\n",
              "      <td>0.0</td>\n",
              "      <td>0.0</td>\n",
              "      <td>0.0</td>\n",
              "      <td>0.0</td>\n",
              "      <td>0.0</td>\n",
              "      <td>0.0</td>\n",
              "      <td>0.0</td>\n",
              "    </tr>\n",
              "    <tr>\n",
              "      <th>3</th>\n",
              "      <td>40.30467</td>\n",
              "      <td>53.845657</td>\n",
              "      <td>0.0</td>\n",
              "      <td>401.0</td>\n",
              "      <td>15.0</td>\n",
              "      <td>15.52416</td>\n",
              "      <td>32.44188</td>\n",
              "      <td>0.0</td>\n",
              "      <td>377.0</td>\n",
              "      <td>3.0</td>\n",
              "      <td>...</td>\n",
              "      <td>0.0</td>\n",
              "      <td>1.0</td>\n",
              "      <td>0.0</td>\n",
              "      <td>0.0</td>\n",
              "      <td>0.0</td>\n",
              "      <td>0.0</td>\n",
              "      <td>0.0</td>\n",
              "      <td>0.0</td>\n",
              "      <td>0.0</td>\n",
              "      <td>1.0</td>\n",
              "    </tr>\n",
              "    <tr>\n",
              "      <th>4</th>\n",
              "      <td>40.30467</td>\n",
              "      <td>53.845657</td>\n",
              "      <td>0.0</td>\n",
              "      <td>401.0</td>\n",
              "      <td>15.0</td>\n",
              "      <td>15.52416</td>\n",
              "      <td>32.44188</td>\n",
              "      <td>0.0</td>\n",
              "      <td>377.0</td>\n",
              "      <td>3.0</td>\n",
              "      <td>...</td>\n",
              "      <td>0.0</td>\n",
              "      <td>1.0</td>\n",
              "      <td>0.0</td>\n",
              "      <td>0.0</td>\n",
              "      <td>0.0</td>\n",
              "      <td>0.0</td>\n",
              "      <td>0.0</td>\n",
              "      <td>0.0</td>\n",
              "      <td>0.0</td>\n",
              "      <td>27.0</td>\n",
              "    </tr>\n",
              "  </tbody>\n",
              "</table>\n",
              "<p>5 rows × 281 columns</p>\n",
              "</div>"
            ],
            "text/plain": [
              "        0          1    2      3     4         5         6    7      8    9    \\\n",
              "0  40.30467  53.845657  0.0  401.0  15.0  15.52416  32.44188  0.0  377.0  3.0   \n",
              "1  40.30467  53.845657  0.0  401.0  15.0  15.52416  32.44188  0.0  377.0  3.0   \n",
              "2  40.30467  53.845657  0.0  401.0  15.0  15.52416  32.44188  0.0  377.0  3.0   \n",
              "3  40.30467  53.845657  0.0  401.0  15.0  15.52416  32.44188  0.0  377.0  3.0   \n",
              "4  40.30467  53.845657  0.0  401.0  15.0  15.52416  32.44188  0.0  377.0  3.0   \n",
              "\n",
              "   ...   271  272  273  274  275  276  277  278  279   280  \n",
              "0  ...   0.0  1.0  0.0  0.0  0.0  0.0  0.0  0.0  0.0   1.0  \n",
              "1  ...   1.0  0.0  0.0  0.0  0.0  0.0  0.0  0.0  0.0   0.0  \n",
              "2  ...   1.0  0.0  0.0  0.0  0.0  0.0  0.0  0.0  0.0   0.0  \n",
              "3  ...   0.0  1.0  0.0  0.0  0.0  0.0  0.0  0.0  0.0   1.0  \n",
              "4  ...   0.0  1.0  0.0  0.0  0.0  0.0  0.0  0.0  0.0  27.0  \n",
              "\n",
              "[5 rows x 281 columns]"
            ]
          },
          "metadata": {
            "tags": []
          },
          "execution_count": 4
        }
      ]
    },
    {
      "metadata": {
        "id": "TE5DQNoWHLo1",
        "colab_type": "code",
        "colab": {}
      },
      "cell_type": "code",
      "source": [
        "X_train, X_test, y_train, y_test = train_test_split(np.array(df)[:, :280], df[280], test_size=0.8)"
      ],
      "execution_count": 0,
      "outputs": []
    },
    {
      "metadata": {
        "collapsed": true,
        "id": "E7vLVvO1HLo7",
        "colab_type": "text"
      },
      "cell_type": "markdown",
      "source": [
        "**(1 балл) Задание 1.** Постройте графики зависимости $error$, $bias^2$ и $variance$ от глубины решающего дерева (от 1 до 15 включительно) для $N=100$. "
      ]
    },
    {
      "metadata": {
        "id": "72Q8CVdUHLo_",
        "colab_type": "code",
        "colab": {}
      },
      "cell_type": "code",
      "source": [
        "def subsample(X_train, y_train):\n",
        "    rnd_indices = np.random.choice(len(X_train), 2 * len(X_train))\n",
        "    return X_train[rnd_indices], y_train.iloc[rnd_indices]"
      ],
      "execution_count": 0,
      "outputs": []
    },
    {
      "metadata": {
        "id": "76N3c3lMHLpH",
        "colab_type": "code",
        "colab": {},
        "outputId": "7abe2707-3060-40a7-d419-6a7fae8d8835"
      },
      "cell_type": "code",
      "source": [
        "all_predictions = []\n",
        "for depth in range(1, 16):\n",
        "    predictions = []\n",
        "    for _ in tqdm(range(100)):\n",
        "        X_subsample, y_subsample = subsample(X_train, y_train)\n",
        "        clf = DecisionTreeRegressor(max_depth=depth)\n",
        "        clf.fit(X_subsample, y_subsample)\n",
        "        predictions.append(clf.predict(X_test))\n",
        "    all_predictions.append(predictions)"
      ],
      "execution_count": 0,
      "outputs": [
        {
          "output_type": "stream",
          "text": [
            "100%|██████████| 100/100 [00:17<00:00,  5.71it/s]\n",
            "100%|██████████| 100/100 [00:29<00:00,  3.36it/s]\n",
            "100%|██████████| 100/100 [00:42<00:00,  2.33it/s]\n",
            "100%|██████████| 100/100 [00:56<00:00,  1.76it/s]\n",
            "100%|██████████| 100/100 [00:59<00:00,  1.69it/s]\n",
            "100%|██████████| 100/100 [01:08<00:00,  1.45it/s]\n",
            "100%|██████████| 100/100 [01:19<00:00,  1.26it/s]\n",
            "100%|██████████| 100/100 [01:28<00:00,  1.12it/s]\n",
            "100%|██████████| 100/100 [01:35<00:00,  1.05it/s]\n",
            "100%|██████████| 100/100 [01:45<00:00,  1.05s/it]\n",
            "100%|██████████| 100/100 [01:53<00:00,  1.13s/it]\n",
            "100%|██████████| 100/100 [02:00<00:00,  1.20s/it]\n",
            "100%|██████████| 100/100 [02:11<00:00,  1.32s/it]\n",
            "100%|██████████| 100/100 [02:09<00:00,  1.30s/it]\n",
            "100%|██████████| 100/100 [02:17<00:00,  1.38s/it]\n"
          ],
          "name": "stderr"
        }
      ]
    },
    {
      "metadata": {
        "scrolled": true,
        "id": "yiM19O3lHLpS",
        "colab_type": "code",
        "colab": {}
      },
      "cell_type": "code",
      "source": [
        "variances = [np.mean([mean_squared_error(np.mean(predictions, axis=0), pred) \n",
        "                      for pred in predictions]) for predictions in all_predictions]\n",
        "\n",
        "biases = [mean_squared_error(y_test, np.mean(predictions, axis=0)) for predictions in all_predictions]\n",
        "\n",
        "errors = [np.mean([mean_squared_error(y_test, prediction) \n",
        "                  for prediction in predictions]) for predictions in all_predictions]"
      ],
      "execution_count": 0,
      "outputs": []
    },
    {
      "metadata": {
        "id": "mBi9abo9HLpc",
        "colab_type": "code",
        "colab": {},
        "outputId": "cfa43a55-d4ac-41a3-818a-f51ef17cc658"
      },
      "cell_type": "code",
      "source": [
        "plt.figure(figsize=(8, 5))\n",
        "plt.plot(np.arange(1, 16), variances, label='variance')\n",
        "plt.plot(np.arange(1, 16), biases, label='bias_sq')\n",
        "plt.plot(np.arange(1, 16), errors, label='error')\n",
        "plt.xlabel('Tree depth')\n",
        "plt.legend()\n",
        "plt.grid()\n",
        "plt.show()"
      ],
      "execution_count": 0,
      "outputs": [
        {
          "output_type": "display_data",
          "data": {
            "image/png": "[encoded data removed]",
            "text/plain": [
              "<Figure size 576x360 with 1 Axes>"
            ]
          },
          "metadata": {
            "tags": []
          }
        }
      ]
    },
    {
      "metadata": {
        "id": "CNYuQEAeHLpr",
        "colab_type": "text"
      },
      "cell_type": "markdown",
      "source": [
        "**(0.5 балла) Задание 2.** Являются ли какие-то из полученных графиков монотонными? А должны ли они быть монотонными, если бы гипотетически эксперименты были проведены на всевозможных выборках? Почему? Убедитесь численно, что верно bias-variance разложение ошибки: $$error = bias^2 + variance$$"
      ]
    },
    {
      "metadata": {
        "id": "WKc2OuX2HLps",
        "colab_type": "text"
      },
      "cell_type": "markdown",
      "source": [
        "Численно мы легко убедимся в том, что ошибка равна $bias^2 + variance$, просто нарисовав график их суммы. Он окажется совпадающим с графиком $error$. Графики variance и bias выглядят монотонными.\n",
        "\n",
        "Видно, что, начиная с некоторой высоты, ошибка монотонно растёт, хотя условия эксперимента для каждой из высот были одинаковы. На самом деле такого быть не должно, и ошибка должна колебаться случайным образом, так как подвыборки выбирались из обучающей выборки равномерно."
      ]
    },
    {
      "metadata": {
        "id": "O6iUL_3UHLpv",
        "colab_type": "code",
        "colab": {},
        "outputId": "329bcee1-a057-4694-997e-db75fd013a22"
      },
      "cell_type": "code",
      "source": [
        "plt.figure(figsize=(8, 5))\n",
        "plt.plot(np.arange(1, 16), variances, label='variance')\n",
        "plt.plot(np.arange(1, 16), biases, label='bias_sq')\n",
        "plt.plot(np.arange(1, 16), errors, label='error')\n",
        "plt.plot(np.arange(1, 16), np.array(variances) + np.array(biases), label='error as a sum')\n",
        "plt.xlabel('Tree depth')\n",
        "plt.legend()\n",
        "plt.grid()\n",
        "plt.show()"
      ],
      "execution_count": 0,
      "outputs": [
        {
          "output_type": "display_data",
          "data": {
            "image/png": "[encoded data removed]",
            "text/plain": [
              "<Figure size 576x360 with 1 Axes>"
            ]
          },
          "metadata": {
            "tags": []
          }
        }
      ]
    },
    {
      "metadata": {
        "collapsed": true,
        "id": "xr8dTiFjHLp3",
        "colab_type": "text"
      },
      "cell_type": "markdown",
      "source": [
        "## Композиции алгоритмов\n",
        "\n",
        "Несмотря на описанный выше недостаток решающих деревьев, объединение их в композиции позволяет существенно улучшить качество предсказания. Рассмотрим несколько способов построения композиций.\n",
        "\n",
        "### Bagging + RSM\n",
        "\n",
        "![](https://sites.google.com/site/rajhansgondane2506/_/rsrc/1467898300734/publications/rrftrain.jpg?height=215&width=320)\n",
        "\n",
        "Один из способов объединения алгоритмов в композиции — обучение каждого отдельного алгоритма на некоторой подвыборке из исходной выборки ([bagging](https://en.wikipedia.org/wiki/Bootstrap_aggregating)) и подмножестве исходных признаков ([RSM](https://en.wikipedia.org/wiki/Random_subspace_method)). В sklearn этот тип композиции реализован в классе [BaggingRegressor](http://scikit-learn.org/stable/modules/generated/sklearn.ensemble.BaggingRegressor.html) (для случая регресии). Подобный подход также есть в реализации [RandomForest](http://scikit-learn.org/stable/modules/generated/sklearn.ensemble.RandomForestRegressor.html)."
      ]
    },
    {
      "metadata": {
        "id": "BBX0cb2_HLp7",
        "colab_type": "text"
      },
      "cell_type": "markdown",
      "source": [
        "### Градиентный бустинг\n",
        "\n",
        "В случае бустинга композиция алгоритмов строится последовательно. Каждый следующий базовый алгоритм акцентируется на тех объектах, на которых обученная ранее композиция допускала ошибку.\n",
        "\n",
        "На данный момент одной из самых широко распространенных реализаций бустинга является библиотека [XGBoost](https://github.com/dmlc/xgboost). В ней большое внимание уделяется регуляризации и скорости, нежели в других реализациях бустинга (например,  [GradientBoostingRegressor](http://scikit-learn.org/stable/modules/generated/sklearn.ensemble.GradientBoostingRegressor.html) из sklearn). Кроме того, XGBoost позволяет оптимизировать различные функции потерь, а также более гибок, засчет большого числа параметров."
      ]
    },
    {
      "metadata": {
        "id": "dcMOYmLPHLp9",
        "colab_type": "text"
      },
      "cell_type": "markdown",
      "source": [
        "XGBoost строит композицию из $K$ базовых алгоритмов $b_k$:\n",
        "\n",
        "$$ \\hat{y}_i = \\hat{y}_i^{K} = \\sum_{k=1}^{K} b_k(x_i) = \\hat{y}_i^{\\left(K - 1\\right)} + b_K(x_i), $$\n",
        "\n",
        "минимизируя следующий функционал:\n",
        "\n",
        "$$ Obj = \\sum_{i=1}^N \\mathcal{L}(y_i, \\hat{y}_i ) + \\sum_{k=1}^{K} \\Omega(b_k),$$\n",
        "\n",
        "где\n",
        " - $N$ — размер обучающей выборки;\n",
        " - $x_i, y_i, \\hat{y}_i$ — i-ый объект, правильный ответ и предсказание модели для него;\n",
        " - $\\hat{y}_i^{t}$ — предсказание композиции из $t$ уже обученных базовых алгоритмов для i-го объекта;\n",
        " - $\\Omega$ — регуляризатор;\n",
        " - $\\mathcal{L}(y_i, \\hat{y}_i)$ — функция потерь.\n",
        "\n",
        "Функционал, оптимизируемый на $t$-ой итерации:\n",
        "\n",
        "$$ Obj^{(t)} = \\sum_{i=1}^N \\mathcal{L}\\left(y_i, \\hat{y}_i^{(t-1)} + b_t(x_i)\\right) + \\Omega(b_t).$$"
      ]
    },
    {
      "metadata": {
        "id": "vY7GoayzHLp_",
        "colab_type": "text"
      },
      "cell_type": "markdown",
      "source": [
        "В XGBoost реализовано несколько различных функций потерь, что позволяет решать задачи классификации (бинарной и мультиклассовой), регрессии и ранжирования. Вот некоторые из них:\n",
        "\n",
        "- reg:linear — линейная регрессия\n",
        "- reg:logistic — логистическая регрессия\n",
        "- binary:logistic — логистическая регрессия\n",
        "- multi:softmax — softmax функция потерь для многоклассовой классификации\n",
        "- rank:pairwise — минимизация pairwise-функции потерь для задачи ранжирования"
      ]
    },
    {
      "metadata": {
        "id": "-tUqM0AJHLqC",
        "colab_type": "text"
      },
      "cell_type": "markdown",
      "source": [
        "**(1 балл) Задание 3.** Проведите аналогичный эксперимент с bias-variance разложением для градиентного бустинга для количество алгоритмов 1, 5, 10, 25 и 50, используя в качестве базовых алгоритмов решающие деревья. Обратите внимание, что данная библиотека имеет два интерфейса (стандартный и аналог sklearn), названия параметров в которых могут отличаться."
      ]
    },
    {
      "metadata": {
        "id": "t04Eb_4YHLqE",
        "colab_type": "code",
        "colab": {},
        "outputId": "007f061e-36c4-4843-f0db-1794b0ede32c"
      },
      "cell_type": "code",
      "source": [
        "all_predictions = []\n",
        "n_estimators = [1, 5, 10, 25, 50]\n",
        "for est in n_estimators:\n",
        "    predictions = []\n",
        "    for _ in tqdm(range(100)):\n",
        "        X_subsample, y_subsample = subsample(X_train, y_train)\n",
        "        clf = XGBRegressor(n_estimators=est)\n",
        "        clf.fit(X_subsample, y_subsample)\n",
        "        predictions.append(clf.predict(X_test))\n",
        "    all_predictions.append(predictions)"
      ],
      "execution_count": 0,
      "outputs": [
        {
          "output_type": "stream",
          "text": [
            "100%|██████████| 100/100 [00:46<00:00,  2.14it/s]\n",
            "100%|██████████| 100/100 [01:23<00:00,  1.19it/s]\n",
            "100%|██████████| 100/100 [02:24<00:00,  1.45s/it]\n",
            "100%|██████████| 100/100 [04:33<00:00,  2.73s/it]\n",
            "100%|██████████| 100/100 [08:33<00:00,  5.13s/it]\n"
          ],
          "name": "stderr"
        }
      ]
    },
    {
      "metadata": {
        "id": "d5emoHztHLqM",
        "colab_type": "code",
        "colab": {}
      },
      "cell_type": "code",
      "source": [
        "variances = [np.mean([mean_squared_error(np.mean(predictions, axis=0), pred) \n",
        "                      for pred in predictions]) for predictions in all_predictions]\n",
        "\n",
        "biases = [mean_squared_error(y_test, np.mean(predictions, axis=0)) for predictions in all_predictions]\n",
        "\n",
        "errors = [np.mean([mean_squared_error(y_test, prediction) \n",
        "                  for prediction in predictions]) for predictions in all_predictions]"
      ],
      "execution_count": 0,
      "outputs": []
    },
    {
      "metadata": {
        "id": "8ej7Y6SWHLqS",
        "colab_type": "code",
        "colab": {},
        "outputId": "9bd73be4-8405-4ed3-ef96-4cb08386726e"
      },
      "cell_type": "code",
      "source": [
        "plt.figure(figsize=(8, 5))\n",
        "plt.plot(n_estimators, variances, label='variance')\n",
        "plt.plot(n_estimators, biases, label='bias_sq')\n",
        "plt.plot(n_estimators, errors, label='error')\n",
        "plt.xlabel('Number of estimators')\n",
        "plt.legend()\n",
        "plt.grid()\n",
        "plt.show()"
      ],
      "execution_count": 0,
      "outputs": [
        {
          "output_type": "display_data",
          "data": {
            "image/png": "[encoded data removed]",
            "text/plain": [
              "<Figure size 576x360 with 1 Axes>"
            ]
          },
          "metadata": {
            "tags": []
          }
        }
      ]
    },
    {
      "metadata": {
        "id": "2UkMOcDiHLqa",
        "colab_type": "text"
      },
      "cell_type": "markdown",
      "source": [
        "**(0.5 балла) Задание 4.** Отличаются ли графики в рассмотренных моделях (решающее дерево, градиентный бустинг на решающих деревьях)  между собой? На какую компоненту из разложения ошибки влияет объединение алгоритмов в рассмотренный тип композиции? Поясните свой ответ."
      ]
    },
    {
      "metadata": {
        "collapsed": true,
        "id": "KiSL2pa-HLqg",
        "colab_type": "text"
      },
      "cell_type": "markdown",
      "source": [
        "Да, графики очень отличаются. Видно, что дисперсия крайне мала по сравнению с прошлым графиком. То есть данный тип композиции уменьшает дисперсию и не даёт ей сильно расти с ростом estimators. Уменьшение дисперсии, видимо, следует из того, что каждый следующий базовый алгоритм акцентируется на тех объектах, на которых обученная ранее композиция допускала ошибку."
      ]
    },
    {
      "metadata": {
        "id": "9NfnuitfHLqj",
        "colab_type": "text"
      },
      "cell_type": "markdown",
      "source": [
        "### Стекинг\n",
        "![](https://4.bp.blogspot.com/-hCxAb57kzDQ/VuMgHy3hAhI/AAAAAAAAAVk/djmL9IHv5QkLWeudjE50qDoCTbiUrTetA/s1600/Stacking.jpg)\n",
        "\n",
        "[Stacking](https://en.wikipedia.org/wiki/Ensemble_learning#Stacking) — еще один способ объединить несколько алгоритмов в один, который часто используется как в решении реальных задач из промышленной сферы, так и в конкурсах на платформах вроде Kaggle. Подход использует понятие *базовых классификаторов*, каждый из которых независимо обучается на некотором (возможно одном и том же) множестве признаков, а также *мета-классификатора*, использующего предсказания базовых классификаторов как факторы. \n",
        "\n",
        "Загрузите [датасет](https://archive.ics.uci.edu/ml/datasets/covertype). В тренировочных целях предлагается вместо задачи мультиклассификации решать задачу обычной бинарной классификации — научиться отличать **Spruce-Fir** (значение целевой переменной — 1) от **Lodgepole Pine** (значение целевой переменной — 2). Разделите выборку на обучение и тест в соотношении 50/50. В качестве метрики используйте [accuracy_score](http://scikit-learn.org/stable/modules/generated/sklearn.metrics.accuracy_score.html)."
      ]
    },
    {
      "metadata": {
        "id": "lg9TEJ7IHLqn",
        "colab_type": "text"
      },
      "cell_type": "markdown",
      "source": [
        "**(1 балл) Задание 5.** Использование мета-классификатора подразумевает получение предсказаний от базовых классификаторов для тех объектов обучающей выборки, на которых мета-классификатор будет обучаться. В свою очередь базовые классификаторы тоже должны быть обучены на некоторой выборке. Чтобы избежать переобучения, обучающее множество делится на $n$ фолдов, $(n-1)$ из которых используются для обучения базовых классификаторов, а $n$-ый — для предсказания (вычисления мета-фактора).\n",
        "\n",
        "Для получения мета-факторов для тестовых данных базовые классификаторы могут быть обучены на всем обучающем множестве, поскольку проблема переобучения здесь не возникает. Другими словами, если мы хотим посчитать факторы для тестового множества, мы можем спокойно использовать обучающее множество для тренировки базовых классификаторов. Если же мы хотим посчитать факторы для обучающего множества, то необходимо следить, чтобы классификатор не предсказывал для тех объектов, на которых обучался.\n",
        "\n",
        "Мета-классификатор может быть обучен как на множестве исходных факторов, дополненным мета-факторами, так и исключительно на множестве мета-факторов. Выбор зависит от решаемой задачи.\n",
        "\n",
        "Напишите функцию, которая получает на вход классификатор, обучающую и тестовые выборки, а также параметры [кросс-валидатора](http://scikit-learn.org/stable/modules/generated/sklearn.model_selection.KFold.html) и возвращающую значения мета-фактора для обучающего и тестового множеств"
      ]
    },
    {
      "metadata": {
        "id": "V-HRRO8VH-x8",
        "colab_type": "code",
        "colab": {
          "base_uri": "https://localhost:8080/",
          "height": 225
        },
        "outputId": "7e6eba31-20bb-4429-f860-9d614ff5deef"
      },
      "cell_type": "code",
      "source": [
        "!wget https://archive.ics.uci.edu/ml/machine-learning-databases/covtype/covtype.data.gz&ts=1489637334&use_mirror=excellmedia"
      ],
      "execution_count": 4,
      "outputs": [
        {
          "output_type": "stream",
          "text": [
            "--2018-10-21 14:48:42--  https://archive.ics.uci.edu/ml/machine-learning-databases/covtype/covtype.data.gz\n",
            "Resolving archive.ics.uci.edu (archive.ics.uci.edu)... 128.195.10.249\n",
            "Connecting to archive.ics.uci.edu (archive.ics.uci.edu)|128.195.10.249|:443... connected.\n",
            "HTTP request sent, awaiting response... 200 OK\n",
            "Length: 11240707 (11M) [application/x-gzip]\n",
            "Saving to: ‘covtype.data.gz’\n",
            "\n",
            "covtype.data.gz     100%[===================>]  10.72M  14.4MB/s    in 0.7s    \n",
            "\n",
            "2018-10-21 14:48:43 (14.4 MB/s) - ‘covtype.data.gz’ saved [11240707/11240707]\n",
            "\n"
          ],
          "name": "stdout"
        }
      ]
    },
    {
      "metadata": {
        "id": "x7-2qdPLHLqq",
        "colab_type": "code",
        "colab": {
          "base_uri": "https://localhost:8080/",
          "height": 236
        },
        "outputId": "de2fb744-bd3a-423a-a5f5-c200266fb32e"
      },
      "cell_type": "code",
      "source": [
        "df = pd.read_csv('covtype.data.gz', header=None)\n",
        "df.head()"
      ],
      "execution_count": 5,
      "outputs": [
        {
          "output_type": "execute_result",
          "data": {
            "text/html": [
              "<div>\n",
              "<style scoped>\n",
              "    .dataframe tbody tr th:only-of-type {\n",
              "        vertical-align: middle;\n",
              "    }\n",
              "\n",
              "    .dataframe tbody tr th {\n",
              "        vertical-align: top;\n",
              "    }\n",
              "\n",
              "    .dataframe thead th {\n",
              "        text-align: right;\n",
              "    }\n",
              "</style>\n",
              "<table border=\"1\" class=\"dataframe\">\n",
              "  <thead>\n",
              "    <tr style=\"text-align: right;\">\n",
              "      <th></th>\n",
              "      <th>0</th>\n",
              "      <th>1</th>\n",
              "      <th>2</th>\n",
              "      <th>3</th>\n",
              "      <th>4</th>\n",
              "      <th>5</th>\n",
              "      <th>6</th>\n",
              "      <th>7</th>\n",
              "      <th>8</th>\n",
              "      <th>9</th>\n",
              "      <th>...</th>\n",
              "      <th>45</th>\n",
              "      <th>46</th>\n",
              "      <th>47</th>\n",
              "      <th>48</th>\n",
              "      <th>49</th>\n",
              "      <th>50</th>\n",
              "      <th>51</th>\n",
              "      <th>52</th>\n",
              "      <th>53</th>\n",
              "      <th>54</th>\n",
              "    </tr>\n",
              "  </thead>\n",
              "  <tbody>\n",
              "    <tr>\n",
              "      <th>0</th>\n",
              "      <td>2596</td>\n",
              "      <td>51</td>\n",
              "      <td>3</td>\n",
              "      <td>258</td>\n",
              "      <td>0</td>\n",
              "      <td>510</td>\n",
              "      <td>221</td>\n",
              "      <td>232</td>\n",
              "      <td>148</td>\n",
              "      <td>6279</td>\n",
              "      <td>...</td>\n",
              "      <td>0</td>\n",
              "      <td>0</td>\n",
              "      <td>0</td>\n",
              "      <td>0</td>\n",
              "      <td>0</td>\n",
              "      <td>0</td>\n",
              "      <td>0</td>\n",
              "      <td>0</td>\n",
              "      <td>0</td>\n",
              "      <td>5</td>\n",
              "    </tr>\n",
              "    <tr>\n",
              "      <th>1</th>\n",
              "      <td>2590</td>\n",
              "      <td>56</td>\n",
              "      <td>2</td>\n",
              "      <td>212</td>\n",
              "      <td>-6</td>\n",
              "      <td>390</td>\n",
              "      <td>220</td>\n",
              "      <td>235</td>\n",
              "      <td>151</td>\n",
              "      <td>6225</td>\n",
              "      <td>...</td>\n",
              "      <td>0</td>\n",
              "      <td>0</td>\n",
              "      <td>0</td>\n",
              "      <td>0</td>\n",
              "      <td>0</td>\n",
              "      <td>0</td>\n",
              "      <td>0</td>\n",
              "      <td>0</td>\n",
              "      <td>0</td>\n",
              "      <td>5</td>\n",
              "    </tr>\n",
              "    <tr>\n",
              "      <th>2</th>\n",
              "      <td>2804</td>\n",
              "      <td>139</td>\n",
              "      <td>9</td>\n",
              "      <td>268</td>\n",
              "      <td>65</td>\n",
              "      <td>3180</td>\n",
              "      <td>234</td>\n",
              "      <td>238</td>\n",
              "      <td>135</td>\n",
              "      <td>6121</td>\n",
              "      <td>...</td>\n",
              "      <td>0</td>\n",
              "      <td>0</td>\n",
              "      <td>0</td>\n",
              "      <td>0</td>\n",
              "      <td>0</td>\n",
              "      <td>0</td>\n",
              "      <td>0</td>\n",
              "      <td>0</td>\n",
              "      <td>0</td>\n",
              "      <td>2</td>\n",
              "    </tr>\n",
              "    <tr>\n",
              "      <th>3</th>\n",
              "      <td>2785</td>\n",
              "      <td>155</td>\n",
              "      <td>18</td>\n",
              "      <td>242</td>\n",
              "      <td>118</td>\n",
              "      <td>3090</td>\n",
              "      <td>238</td>\n",
              "      <td>238</td>\n",
              "      <td>122</td>\n",
              "      <td>6211</td>\n",
              "      <td>...</td>\n",
              "      <td>0</td>\n",
              "      <td>0</td>\n",
              "      <td>0</td>\n",
              "      <td>0</td>\n",
              "      <td>0</td>\n",
              "      <td>0</td>\n",
              "      <td>0</td>\n",
              "      <td>0</td>\n",
              "      <td>0</td>\n",
              "      <td>2</td>\n",
              "    </tr>\n",
              "    <tr>\n",
              "      <th>4</th>\n",
              "      <td>2595</td>\n",
              "      <td>45</td>\n",
              "      <td>2</td>\n",
              "      <td>153</td>\n",
              "      <td>-1</td>\n",
              "      <td>391</td>\n",
              "      <td>220</td>\n",
              "      <td>234</td>\n",
              "      <td>150</td>\n",
              "      <td>6172</td>\n",
              "      <td>...</td>\n",
              "      <td>0</td>\n",
              "      <td>0</td>\n",
              "      <td>0</td>\n",
              "      <td>0</td>\n",
              "      <td>0</td>\n",
              "      <td>0</td>\n",
              "      <td>0</td>\n",
              "      <td>0</td>\n",
              "      <td>0</td>\n",
              "      <td>5</td>\n",
              "    </tr>\n",
              "  </tbody>\n",
              "</table>\n",
              "<p>5 rows × 55 columns</p>\n",
              "</div>"
            ],
            "text/plain": [
              "     0    1   2    3    4     5    6    7    8     9  ...  45  46  47  48  49  \\\n",
              "0  2596   51   3  258    0   510  221  232  148  6279 ...   0   0   0   0   0   \n",
              "1  2590   56   2  212   -6   390  220  235  151  6225 ...   0   0   0   0   0   \n",
              "2  2804  139   9  268   65  3180  234  238  135  6121 ...   0   0   0   0   0   \n",
              "3  2785  155  18  242  118  3090  238  238  122  6211 ...   0   0   0   0   0   \n",
              "4  2595   45   2  153   -1   391  220  234  150  6172 ...   0   0   0   0   0   \n",
              "\n",
              "   50  51  52  53  54  \n",
              "0   0   0   0   0   5  \n",
              "1   0   0   0   0   5  \n",
              "2   0   0   0   0   2  \n",
              "3   0   0   0   0   2  \n",
              "4   0   0   0   0   5  \n",
              "\n",
              "[5 rows x 55 columns]"
            ]
          },
          "metadata": {
            "tags": []
          },
          "execution_count": 5
        }
      ]
    },
    {
      "metadata": {
        "id": "fIpJywRBHLrF",
        "colab_type": "code",
        "colab": {
          "base_uri": "https://localhost:8080/",
          "height": 236
        },
        "outputId": "0a71e866-7ec3-48ae-8af6-e760e820e80e"
      },
      "cell_type": "code",
      "source": [
        "binary_class_df = df[df[54] < 3]\n",
        "binary_class_df.head()"
      ],
      "execution_count": 7,
      "outputs": [
        {
          "output_type": "execute_result",
          "data": {
            "text/html": [
              "<div>\n",
              "<style scoped>\n",
              "    .dataframe tbody tr th:only-of-type {\n",
              "        vertical-align: middle;\n",
              "    }\n",
              "\n",
              "    .dataframe tbody tr th {\n",
              "        vertical-align: top;\n",
              "    }\n",
              "\n",
              "    .dataframe thead th {\n",
              "        text-align: right;\n",
              "    }\n",
              "</style>\n",
              "<table border=\"1\" class=\"dataframe\">\n",
              "  <thead>\n",
              "    <tr style=\"text-align: right;\">\n",
              "      <th></th>\n",
              "      <th>0</th>\n",
              "      <th>1</th>\n",
              "      <th>2</th>\n",
              "      <th>3</th>\n",
              "      <th>4</th>\n",
              "      <th>5</th>\n",
              "      <th>6</th>\n",
              "      <th>7</th>\n",
              "      <th>8</th>\n",
              "      <th>9</th>\n",
              "      <th>...</th>\n",
              "      <th>45</th>\n",
              "      <th>46</th>\n",
              "      <th>47</th>\n",
              "      <th>48</th>\n",
              "      <th>49</th>\n",
              "      <th>50</th>\n",
              "      <th>51</th>\n",
              "      <th>52</th>\n",
              "      <th>53</th>\n",
              "      <th>54</th>\n",
              "    </tr>\n",
              "  </thead>\n",
              "  <tbody>\n",
              "    <tr>\n",
              "      <th>2</th>\n",
              "      <td>2804</td>\n",
              "      <td>139</td>\n",
              "      <td>9</td>\n",
              "      <td>268</td>\n",
              "      <td>65</td>\n",
              "      <td>3180</td>\n",
              "      <td>234</td>\n",
              "      <td>238</td>\n",
              "      <td>135</td>\n",
              "      <td>6121</td>\n",
              "      <td>...</td>\n",
              "      <td>0</td>\n",
              "      <td>0</td>\n",
              "      <td>0</td>\n",
              "      <td>0</td>\n",
              "      <td>0</td>\n",
              "      <td>0</td>\n",
              "      <td>0</td>\n",
              "      <td>0</td>\n",
              "      <td>0</td>\n",
              "      <td>2</td>\n",
              "    </tr>\n",
              "    <tr>\n",
              "      <th>3</th>\n",
              "      <td>2785</td>\n",
              "      <td>155</td>\n",
              "      <td>18</td>\n",
              "      <td>242</td>\n",
              "      <td>118</td>\n",
              "      <td>3090</td>\n",
              "      <td>238</td>\n",
              "      <td>238</td>\n",
              "      <td>122</td>\n",
              "      <td>6211</td>\n",
              "      <td>...</td>\n",
              "      <td>0</td>\n",
              "      <td>0</td>\n",
              "      <td>0</td>\n",
              "      <td>0</td>\n",
              "      <td>0</td>\n",
              "      <td>0</td>\n",
              "      <td>0</td>\n",
              "      <td>0</td>\n",
              "      <td>0</td>\n",
              "      <td>2</td>\n",
              "    </tr>\n",
              "    <tr>\n",
              "      <th>5</th>\n",
              "      <td>2579</td>\n",
              "      <td>132</td>\n",
              "      <td>6</td>\n",
              "      <td>300</td>\n",
              "      <td>-15</td>\n",
              "      <td>67</td>\n",
              "      <td>230</td>\n",
              "      <td>237</td>\n",
              "      <td>140</td>\n",
              "      <td>6031</td>\n",
              "      <td>...</td>\n",
              "      <td>0</td>\n",
              "      <td>0</td>\n",
              "      <td>0</td>\n",
              "      <td>0</td>\n",
              "      <td>0</td>\n",
              "      <td>0</td>\n",
              "      <td>0</td>\n",
              "      <td>0</td>\n",
              "      <td>0</td>\n",
              "      <td>2</td>\n",
              "    </tr>\n",
              "    <tr>\n",
              "      <th>11</th>\n",
              "      <td>2886</td>\n",
              "      <td>151</td>\n",
              "      <td>11</td>\n",
              "      <td>371</td>\n",
              "      <td>26</td>\n",
              "      <td>5253</td>\n",
              "      <td>234</td>\n",
              "      <td>240</td>\n",
              "      <td>136</td>\n",
              "      <td>4051</td>\n",
              "      <td>...</td>\n",
              "      <td>0</td>\n",
              "      <td>0</td>\n",
              "      <td>0</td>\n",
              "      <td>0</td>\n",
              "      <td>0</td>\n",
              "      <td>0</td>\n",
              "      <td>0</td>\n",
              "      <td>0</td>\n",
              "      <td>0</td>\n",
              "      <td>2</td>\n",
              "    </tr>\n",
              "    <tr>\n",
              "      <th>12</th>\n",
              "      <td>2742</td>\n",
              "      <td>134</td>\n",
              "      <td>22</td>\n",
              "      <td>150</td>\n",
              "      <td>69</td>\n",
              "      <td>3215</td>\n",
              "      <td>248</td>\n",
              "      <td>224</td>\n",
              "      <td>92</td>\n",
              "      <td>6091</td>\n",
              "      <td>...</td>\n",
              "      <td>0</td>\n",
              "      <td>0</td>\n",
              "      <td>0</td>\n",
              "      <td>0</td>\n",
              "      <td>0</td>\n",
              "      <td>0</td>\n",
              "      <td>0</td>\n",
              "      <td>0</td>\n",
              "      <td>0</td>\n",
              "      <td>2</td>\n",
              "    </tr>\n",
              "  </tbody>\n",
              "</table>\n",
              "<p>5 rows × 55 columns</p>\n",
              "</div>"
            ],
            "text/plain": [
              "      0    1   2    3    4     5    6    7    8     9  ...  45  46  47  48  \\\n",
              "2   2804  139   9  268   65  3180  234  238  135  6121 ...   0   0   0   0   \n",
              "3   2785  155  18  242  118  3090  238  238  122  6211 ...   0   0   0   0   \n",
              "5   2579  132   6  300  -15    67  230  237  140  6031 ...   0   0   0   0   \n",
              "11  2886  151  11  371   26  5253  234  240  136  4051 ...   0   0   0   0   \n",
              "12  2742  134  22  150   69  3215  248  224   92  6091 ...   0   0   0   0   \n",
              "\n",
              "    49  50  51  52  53  54  \n",
              "2    0   0   0   0   0   2  \n",
              "3    0   0   0   0   0   2  \n",
              "5    0   0   0   0   0   2  \n",
              "11   0   0   0   0   0   2  \n",
              "12   0   0   0   0   0   2  \n",
              "\n",
              "[5 rows x 55 columns]"
            ]
          },
          "metadata": {
            "tags": []
          },
          "execution_count": 7
        }
      ]
    },
    {
      "metadata": {
        "scrolled": true,
        "id": "DRHGJZmJHLrQ",
        "colab_type": "code",
        "colab": {}
      },
      "cell_type": "code",
      "source": [
        "X_train, X_test, y_train, y_test = train_test_split(np.array(binary_class_df)[:, :54], \n",
        "                                                    np.array(binary_class_df[54]) - 1, test_size=0.5)"
      ],
      "execution_count": 0,
      "outputs": []
    },
    {
      "metadata": {
        "id": "yhxRq58SHLrW",
        "colab_type": "code",
        "colab": {}
      },
      "cell_type": "code",
      "source": [
        "def compute_meta_feature(clf, X_train, X_test, y_train, cv, *args, **kwargs):\n",
        "    clf.fit(X_train, y_train)\n",
        "    if hasattr(clf, 'predict_proba'):\n",
        "        meta_feature_test = clf.predict_proba(X_test)[:, 1]\n",
        "    else:\n",
        "        meta_feature_test = clf.predict(X_test)\n",
        "\n",
        "    meta_feature_train = np.zeros(y_train.shape)\n",
        "    for train_ind, test_ind in cv.split(X_train):\n",
        "        clf_clone = sklearn.base.clone(clf)\n",
        "        clf_clone.fit(X_train[train_ind], y_train[train_ind])\n",
        "\n",
        "        if hasattr(clf_clone, 'predict_proba'):\n",
        "            meta_feature_train[test_ind] = clf_clone.predict_proba(X_train[test_ind])[:, 1]\n",
        "        else:\n",
        "            meta_feature_train[test_ind] = clf_clone.predict(X_train[test_ind])\n",
        "    return meta_feature_train, meta_feature_test"
      ],
      "execution_count": 0,
      "outputs": []
    },
    {
      "metadata": {
        "id": "Beb55LVVHLrh",
        "colab_type": "text"
      },
      "cell_type": "markdown",
      "source": [
        "Поэкспериментируйте со стекингом, ответьте на вопросы и обоснуйте наблюдения:\n",
        "  - **(1 балл) Задание 6.** Обучите различные известные вам модели машинного обучения и сделайте из них стекинг-композицию. \n",
        "  \n",
        "  Базовые алгоритмы могут отличаться друг от друга:\n",
        "    - моделью машинного обучения,\n",
        "    - гиперпараметрами (например, различные функции потерь или глубины деревьев),\n",
        "    - набором факторов,\n",
        "    - типом модели: для данной задачи можно использовать как классификаторы, так и регрессоры.\n",
        "  \n",
        "  Обратите внимание, что бинарные мета-факторы дают меньше полезного сигнала мета-классификатору, чем числовые, поэтому базовым классификаторам лучше возвращать вероятность/числовую функцию, чем метки классов.\n",
        "  - **(1 балл) Задание 7.** Обучите мета-классификатор на различных наборах факторов:\n",
        "    - исходные факторы,\n",
        "    - исходные факторы + мета-факторы,\n",
        "    - мета-факторы.\n",
        "    \n",
        "    Имеет ли смысл добавлять исходные факторы в мета-классификатор, если базовые классификаторы уже обучены на этом наборе? Удается ли добиться улучшения качества за счет стекинга? Какие классификаторы лучше сочетаются друг с другом в такой композиции?\n",
        "  - **(0.5 балла) Задание 8.** Попробуйте разные размеры фолда при подсчете мета-факторов. Влияет ли размер на качество?\n",
        "  - **(0.5 балла) Задание 9.** Зафиксируйте некоторый набор базовых классификаторов. Обучите поверх них линейную модель и сравните ее с мета-классификатором, который считает среднее по всем метафакторам. Дает ли преимущество линейная модель? О чем говорят коэффициенты линейной модели в данном случае?\n"
      ]
    },
    {
      "metadata": {
        "id": "CFKzh3teHLrj",
        "colab_type": "code",
        "colab": {}
      },
      "cell_type": "code",
      "source": [
        "def create_meta_dataset(classifiers, X_train, X_test, y_train, cv):\n",
        "    train_data, test_data = [], []\n",
        "    for clf in tqdm(classifiers):\n",
        "        meta_feature_train, meta_feature_test = compute_meta_feature(clf, X_train, X_test, y_train, cv)\n",
        "        train_data.append(meta_feature_train)\n",
        "        test_data.append(meta_feature_test)\n",
        "    return np.array(train_data).T, np.array(test_data).T"
      ],
      "execution_count": 0,
      "outputs": []
    },
    {
      "metadata": {
        "id": "5F7Jx1VyHLrp",
        "colab_type": "code",
        "colab": {
          "base_uri": "https://localhost:8080/",
          "height": 338
        },
        "outputId": "ef4333f4-7e39-468c-ce18-4d310148233b"
      },
      "cell_type": "code",
      "source": [
        "classifiers = [KNeighborsClassifier(), \n",
        "               LinearRegression(n_jobs=-1),\n",
        "               RandomForestClassifier(n_jobs=-1), \n",
        "               LinearSVC()]\n",
        "\n",
        "cv = KFold(n_splits=5, shuffle=True)\n",
        "train_data, test_data = create_meta_dataset(classifiers, X_train, X_test, y_train, cv)\n",
        "train_data[:5]"
      ],
      "execution_count": 22,
      "outputs": [
        {
          "output_type": "stream",
          "text": [
            "\n",
            "\n",
            "  0%|          | 0/4 [00:00<?, ?it/s]\u001b[A\u001b[A\n",
            "\n",
            " 25%|██▌       | 1/4 [01:05<03:17, 65.94s/it]\u001b[A\u001b[A\n",
            "\n",
            " 50%|█████     | 2/4 [01:12<01:36, 48.09s/it]\u001b[A\u001b[A\n",
            "\n",
            " 75%|███████▌  | 3/4 [01:39<00:41, 41.67s/it]\u001b[A\u001b[A\n",
            "\n",
            "100%|██████████| 4/4 [07:21<00:00, 132.00s/it]\u001b[A\u001b[A\n",
            "\n",
            "\u001b[A\u001b[A"
          ],
          "name": "stderr"
        },
        {
          "output_type": "execute_result",
          "data": {
            "text/plain": [
              "array([[0.        , 0.17939853, 0.        , 1.        ],\n",
              "       [0.6       , 0.45468365, 0.9       , 1.        ],\n",
              "       [0.        , 0.54343531, 0.3       , 1.        ],\n",
              "       [1.        , 0.51167287, 1.        , 1.        ],\n",
              "       [1.        , 0.35011406, 1.        , 1.        ]])"
            ]
          },
          "metadata": {
            "tags": []
          },
          "execution_count": 22
        }
      ]
    },
    {
      "metadata": {
        "id": "hGaCnjM9QgTK",
        "colab_type": "code",
        "colab": {
          "base_uri": "https://localhost:8080/",
          "height": 338
        },
        "outputId": "8668ed71-eb51-41ae-ac2e-a1a68b69c888"
      },
      "cell_type": "code",
      "source": [
        "classifiers = [KNeighborsClassifier(n_neighbors=10), \n",
        "               KNeighborsClassifier(n_neighbors=15),\n",
        "               DecisionTreeClassifier(max_depth=15), \n",
        "               DecisionTreeClassifier(max_depth=20)]\n",
        "\n",
        "cv = KFold(n_splits=5, shuffle=True)\n",
        "train_data_t_and_n, test_data_t_and_n = create_meta_dataset(classifiers, X_train, X_test, y_train, cv)\n",
        "train_data_t_and_n[:5]"
      ],
      "execution_count": 41,
      "outputs": [
        {
          "output_type": "stream",
          "text": [
            "\n",
            "\n",
            "  0%|          | 0/4 [00:00<?, ?it/s]\u001b[A\u001b[A\n",
            "\n",
            " 25%|██▌       | 1/4 [01:17<03:52, 77.65s/it]\u001b[A\u001b[A\n",
            "\n",
            " 50%|█████     | 2/4 [02:59<02:49, 84.86s/it]\u001b[A\u001b[A\n",
            "\n",
            " 75%|███████▌  | 3/4 [03:17<01:04, 64.86s/it]\u001b[A\u001b[A\n",
            "\n",
            "100%|██████████| 4/4 [03:37<00:00, 51.47s/it]\u001b[A\u001b[A\n",
            "\n",
            "\u001b[A\u001b[A"
          ],
          "name": "stderr"
        },
        {
          "output_type": "execute_result",
          "data": {
            "text/plain": [
              "array([[0.        , 0.        , 0.        , 0.        ],\n",
              "       [0.4       , 0.66666667, 0.94626866, 1.        ],\n",
              "       [0.        , 0.        , 0.        , 0.        ],\n",
              "       [1.        , 1.        , 1.        , 1.        ],\n",
              "       [1.        , 1.        , 1.        , 1.        ]])"
            ]
          },
          "metadata": {
            "tags": []
          },
          "execution_count": 41
        }
      ]
    },
    {
      "metadata": {
        "id": "NsiTvlG_I09R",
        "colab_type": "code",
        "colab": {
          "base_uri": "https://localhost:8080/",
          "height": 130
        },
        "outputId": "9ba09950-5053-40be-95e3-cf39f12bb636"
      },
      "cell_type": "code",
      "source": [
        "classifiers = [\n",
        "    LinearSVC(),\n",
        "    KNeighborsClassifier(3, n_jobs=-1),\n",
        "    XGBClassifier(n_estimators=10),\n",
        "    RandomForestClassifier(max_depth=10, n_estimators=20, n_jobs=-1)\n",
        "]\n",
        "\n",
        "cv = KFold(n_splits=5, shuffle=True)\n",
        "train_data_last, test_data_last = create_meta_dataset(classifiers, X_train, X_test, y_train, cv)\n",
        "train_data_last[:5]"
      ],
      "execution_count": 18,
      "outputs": [
        {
          "output_type": "stream",
          "text": [
            "100%|██████████| 4/4 [06:01<00:00, 112.68s/it]\n"
          ],
          "name": "stderr"
        },
        {
          "output_type": "execute_result",
          "data": {
            "text/plain": [
              "array([[0.        , 0.        , 0.27540949, 0.14551586],\n",
              "       [1.        , 1.        , 0.68730044, 0.731502  ],\n",
              "       [1.        , 1.        , 0.35879132, 0.46998557],\n",
              "       [1.        , 0.        , 0.36778948, 0.22789211],\n",
              "       [0.        , 0.        , 0.59374022, 0.48141555]])"
            ]
          },
          "metadata": {
            "tags": []
          },
          "execution_count": 18
        }
      ]
    },
    {
      "metadata": {
        "id": "-oSFRdwQHLrv",
        "colab_type": "text"
      },
      "cell_type": "markdown",
      "source": [
        "Сделали стекинг-композиции, посмотрим, насколько это было удачно."
      ]
    },
    {
      "metadata": {
        "id": "KpipC53nHLry",
        "colab_type": "code",
        "colab": {}
      },
      "cell_type": "code",
      "source": [
        "def get_accuracy_scores(classifiers, X_train, X_test, y_train, y_test):\n",
        "    classifiers = [sklearn.base.clone(clf) for clf in classifiers]\n",
        "    names = [clf.__class__.__name__ for clf in classifiers]\n",
        "\n",
        "    for clf in classifiers:\n",
        "        clf.fit(X_train, y_train)\n",
        "    scores = [accuracy_score(y_test, np.rint(clf.predict(X_test))) for clf in classifiers]\n",
        "     \n",
        "    result = {}\n",
        "    for name, score in zip(names, scores):\n",
        "        result[name] = score\n",
        "    return result\n",
        "\n",
        "\n",
        "def try_diffirent_feature_compositions(meta_classifiers, \n",
        "                                       X_train, X_test, \n",
        "                                       train_data_meta, test_data_meta, \n",
        "                                       y_train, y_test):\n",
        "    result = {}\n",
        "    result[\"Only meta-features\"] = get_accuracy_scores(meta_classifiers, train_data_meta, test_data_meta, y_train, y_test)\n",
        "    result[\"Only initial features\"] = get_accuracy_scores(meta_classifiers, X_train, X_test, y_train, y_test)\n",
        "    result[\"Meta features plus initial features\"] = get_accuracy_scores(meta_classifiers, \\\n",
        "                                                        np.concatenate((X_train, train_data_meta), axis=1), \\\n",
        "                                                        np.concatenate((X_test, test_data_meta), axis=1), y_train, y_test)\n",
        "    return pd.DataFrame(result)"
      ],
      "execution_count": 0,
      "outputs": []
    },
    {
      "metadata": {
        "id": "8soa1UpoUCa2",
        "colab_type": "code",
        "colab": {}
      },
      "cell_type": "code",
      "source": [
        "meta_classifiers = [KNeighborsClassifier(), \n",
        "                    LinearRegression(n_jobs=-1),\n",
        "                    RandomForestClassifier(n_jobs=-1)]"
      ],
      "execution_count": 0,
      "outputs": []
    },
    {
      "metadata": {
        "id": "b3_TFfBeUFcX",
        "colab_type": "code",
        "colab": {
          "base_uri": "https://localhost:8080/",
          "height": 181
        },
        "outputId": "f8988af7-3172-4d70-ecb7-c9a433426e28"
      },
      "cell_type": "code",
      "source": [
        "%time try_diffirent_feature_compositions(meta_classifiers, X_train, X_test, train_data, test_data, y_train, y_test)"
      ],
      "execution_count": 59,
      "outputs": [
        {
          "output_type": "stream",
          "text": [
            "CPU times: user 1min 53s, sys: 719 ms, total: 1min 54s\n",
            "Wall time: 1min 39s\n"
          ],
          "name": "stdout"
        },
        {
          "output_type": "execute_result",
          "data": {
            "text/html": [
              "<div>\n",
              "<style scoped>\n",
              "    .dataframe tbody tr th:only-of-type {\n",
              "        vertical-align: middle;\n",
              "    }\n",
              "\n",
              "    .dataframe tbody tr th {\n",
              "        vertical-align: top;\n",
              "    }\n",
              "\n",
              "    .dataframe thead th {\n",
              "        text-align: right;\n",
              "    }\n",
              "</style>\n",
              "<table border=\"1\" class=\"dataframe\">\n",
              "  <thead>\n",
              "    <tr style=\"text-align: right;\">\n",
              "      <th></th>\n",
              "      <th>Meta features plus initial features</th>\n",
              "      <th>Only initial features</th>\n",
              "      <th>Only meta-features</th>\n",
              "    </tr>\n",
              "  </thead>\n",
              "  <tbody>\n",
              "    <tr>\n",
              "      <th>KNeighborsClassifier</th>\n",
              "      <td>0.966696</td>\n",
              "      <td>0.966696</td>\n",
              "      <td>0.967117</td>\n",
              "    </tr>\n",
              "    <tr>\n",
              "      <th>LinearRegression</th>\n",
              "      <td>0.969839</td>\n",
              "      <td>0.775725</td>\n",
              "      <td>0.969734</td>\n",
              "    </tr>\n",
              "    <tr>\n",
              "      <th>RandomForestClassifier</th>\n",
              "      <td>0.970154</td>\n",
              "      <td>0.941487</td>\n",
              "      <td>0.959923</td>\n",
              "    </tr>\n",
              "  </tbody>\n",
              "</table>\n",
              "</div>"
            ],
            "text/plain": [
              "                        Meta features plus initial features  \\\n",
              "KNeighborsClassifier                               0.966696   \n",
              "LinearRegression                                   0.969839   \n",
              "RandomForestClassifier                             0.970154   \n",
              "\n",
              "                        Only initial features  Only meta-features  \n",
              "KNeighborsClassifier                 0.966696            0.967117  \n",
              "LinearRegression                     0.775725            0.969734  \n",
              "RandomForestClassifier               0.941487            0.959923  "
            ]
          },
          "metadata": {
            "tags": []
          },
          "execution_count": 59
        }
      ]
    },
    {
      "metadata": {
        "id": "47Z5QtJ2WinI",
        "colab_type": "code",
        "colab": {
          "base_uri": "https://localhost:8080/",
          "height": 181
        },
        "outputId": "77ac2a15-ea24-4144-bae9-1484c2362697"
      },
      "cell_type": "code",
      "source": [
        "%time try_diffirent_feature_compositions(meta_classifiers, X_train, X_test, train_data_t_and_n, test_data_t_and_n, y_train, y_test)"
      ],
      "execution_count": 60,
      "outputs": [
        {
          "output_type": "stream",
          "text": [
            "CPU times: user 2min 8s, sys: 626 ms, total: 2min 9s\n",
            "Wall time: 1min 56s\n"
          ],
          "name": "stdout"
        },
        {
          "output_type": "execute_result",
          "data": {
            "text/html": [
              "<div>\n",
              "<style scoped>\n",
              "    .dataframe tbody tr th:only-of-type {\n",
              "        vertical-align: middle;\n",
              "    }\n",
              "\n",
              "    .dataframe tbody tr th {\n",
              "        vertical-align: top;\n",
              "    }\n",
              "\n",
              "    .dataframe thead th {\n",
              "        text-align: right;\n",
              "    }\n",
              "</style>\n",
              "<table border=\"1\" class=\"dataframe\">\n",
              "  <thead>\n",
              "    <tr style=\"text-align: right;\">\n",
              "      <th></th>\n",
              "      <th>Meta features plus initial features</th>\n",
              "      <th>Only initial features</th>\n",
              "      <th>Only meta-features</th>\n",
              "    </tr>\n",
              "  </thead>\n",
              "  <tbody>\n",
              "    <tr>\n",
              "      <th>KNeighborsClassifier</th>\n",
              "      <td>0.96670</td>\n",
              "      <td>0.966696</td>\n",
              "      <td>0.959353</td>\n",
              "    </tr>\n",
              "    <tr>\n",
              "      <th>LinearRegression</th>\n",
              "      <td>0.96437</td>\n",
              "      <td>0.775725</td>\n",
              "      <td>0.964168</td>\n",
              "    </tr>\n",
              "    <tr>\n",
              "      <th>RandomForestClassifier</th>\n",
              "      <td>0.96462</td>\n",
              "      <td>0.942186</td>\n",
              "      <td>0.956101</td>\n",
              "    </tr>\n",
              "  </tbody>\n",
              "</table>\n",
              "</div>"
            ],
            "text/plain": [
              "                        Meta features plus initial features  \\\n",
              "KNeighborsClassifier                                0.96670   \n",
              "LinearRegression                                    0.96437   \n",
              "RandomForestClassifier                              0.96462   \n",
              "\n",
              "                        Only initial features  Only meta-features  \n",
              "KNeighborsClassifier                 0.966696            0.959353  \n",
              "LinearRegression                     0.775725            0.964168  \n",
              "RandomForestClassifier               0.942186            0.956101  "
            ]
          },
          "metadata": {
            "tags": []
          },
          "execution_count": 60
        }
      ]
    },
    {
      "metadata": {
        "id": "jJuO2IzNKXl1",
        "colab_type": "code",
        "colab": {
          "base_uri": "https://localhost:8080/",
          "height": 181
        },
        "outputId": "fe233eb8-25ce-4bb8-f7e7-00d5e3ae24fb"
      },
      "cell_type": "code",
      "source": [
        "%time try_diffirent_feature_compositions(meta_classifiers, X_train, X_test, train_data_last, test_data_last, y_train, y_test)"
      ],
      "execution_count": 20,
      "outputs": [
        {
          "output_type": "stream",
          "text": [
            "CPU times: user 1min 56s, sys: 805 ms, total: 1min 56s\n",
            "Wall time: 1min 42s\n"
          ],
          "name": "stdout"
        },
        {
          "output_type": "execute_result",
          "data": {
            "text/html": [
              "<div>\n",
              "<style scoped>\n",
              "    .dataframe tbody tr th:only-of-type {\n",
              "        vertical-align: middle;\n",
              "    }\n",
              "\n",
              "    .dataframe tbody tr th {\n",
              "        vertical-align: top;\n",
              "    }\n",
              "\n",
              "    .dataframe thead th {\n",
              "        text-align: right;\n",
              "    }\n",
              "</style>\n",
              "<table border=\"1\" class=\"dataframe\">\n",
              "  <thead>\n",
              "    <tr style=\"text-align: right;\">\n",
              "      <th></th>\n",
              "      <th>Meta features plus initial features</th>\n",
              "      <th>Only initial features</th>\n",
              "      <th>Only meta-features</th>\n",
              "    </tr>\n",
              "  </thead>\n",
              "  <tbody>\n",
              "    <tr>\n",
              "      <th>KNeighborsClassifier</th>\n",
              "      <td>0.967403</td>\n",
              "      <td>0.967403</td>\n",
              "      <td>0.965339</td>\n",
              "    </tr>\n",
              "    <tr>\n",
              "      <th>LinearRegression</th>\n",
              "      <td>0.969799</td>\n",
              "      <td>0.776472</td>\n",
              "      <td>0.969799</td>\n",
              "    </tr>\n",
              "    <tr>\n",
              "      <th>RandomForestClassifier</th>\n",
              "      <td>0.969245</td>\n",
              "      <td>0.943931</td>\n",
              "      <td>0.963158</td>\n",
              "    </tr>\n",
              "  </tbody>\n",
              "</table>\n",
              "</div>"
            ],
            "text/plain": [
              "                        Meta features plus initial features  \\\n",
              "KNeighborsClassifier                               0.967403   \n",
              "LinearRegression                                   0.969799   \n",
              "RandomForestClassifier                             0.969245   \n",
              "\n",
              "                        Only initial features  Only meta-features  \n",
              "KNeighborsClassifier                 0.967403            0.965339  \n",
              "LinearRegression                     0.776472            0.969799  \n",
              "RandomForestClassifier               0.943931            0.963158  "
            ]
          },
          "metadata": {
            "tags": []
          },
          "execution_count": 20
        }
      ]
    },
    {
      "metadata": {
        "id": "3HD2kTKid6qi",
        "colab_type": "text"
      },
      "cell_type": "markdown",
      "source": [
        "**Имеет ли смысл добавлять исходные факторы в мета-классификатор, если базовые классификаторы уже обучены на этом наборе? Удается ли добиться улучшения качества за счет стекинга? Какие классификаторы лучше сочетаются друг с другом в такой композиции?**\n",
        "\n",
        "По результатам выше видно, что смесь исходных факторов и метафакторов даёт повышение качества.  Единственным исключением был KNN в самом первом случае.\n",
        "\n",
        "Лучшее качество показало следующее сочетание классификаторов:\n",
        "1. KNeighborsClassifier(), \n",
        "2. LinearRegression(n_jobs=-1),\n",
        "3. RandomForestClassifier(n_jobs=-1), \n",
        "4. LinearSVC()\n",
        "\n",
        "Скорее всего, этот результат достигается за счёт совершенно различной природы каждого из приведённых классификаторов.\n",
        "\n",
        "Попробуем увеличить число фолдов. Для генерации мета-фичей возьмём первый набор классификаторов."
      ]
    },
    {
      "metadata": {
        "id": "9iHEbBluQWKh",
        "colab_type": "code",
        "colab": {
          "base_uri": "https://localhost:8080/",
          "height": 130
        },
        "outputId": "0804aa97-b57f-48e1-b48b-227a557fb2bc"
      },
      "cell_type": "code",
      "source": [
        "classifiers = [KNeighborsClassifier(), \n",
        "               LinearRegression(n_jobs=-1),\n",
        "               RandomForestClassifier(n_jobs=-1), \n",
        "               LinearSVC()]\n",
        "\n",
        "cv = KFold(n_splits=10, shuffle=True)\n",
        "train_data, test_data = create_meta_dataset(classifiers, X_train, X_test, y_train, cv)\n",
        "train_data[:5]"
      ],
      "execution_count": 21,
      "outputs": [
        {
          "output_type": "stream",
          "text": [
            "100%|██████████| 4/4 [11:35<00:00, 205.38s/it]\n"
          ],
          "name": "stderr"
        },
        {
          "output_type": "execute_result",
          "data": {
            "text/plain": [
              "array([[ 0.        , -0.07571379,  0.        ,  0.        ],\n",
              "       [ 1.        ,  0.74208088,  1.        ,  1.        ],\n",
              "       [ 1.        ,  0.39862334,  0.9       ,  0.        ],\n",
              "       [ 0.        ,  0.30014396,  0.1       ,  0.        ],\n",
              "       [ 0.        ,  0.62722099,  0.2       ,  1.        ]])"
            ]
          },
          "metadata": {
            "tags": []
          },
          "execution_count": 21
        }
      ]
    },
    {
      "metadata": {
        "id": "pzPIK6C3GpFm",
        "colab_type": "code",
        "colab": {
          "base_uri": "https://localhost:8080/",
          "height": 181
        },
        "outputId": "276b0cb4-67b4-4ba2-8fbf-b0a2f2307eb6"
      },
      "cell_type": "code",
      "source": [
        "%time try_diffirent_feature_compositions(meta_classifiers, X_train, X_test, train_data, test_data, y_train, y_test)"
      ],
      "execution_count": 16,
      "outputs": [
        {
          "output_type": "stream",
          "text": [
            "CPU times: user 1min 48s, sys: 769 ms, total: 1min 49s\n",
            "Wall time: 1min 35s\n"
          ],
          "name": "stdout"
        },
        {
          "output_type": "execute_result",
          "data": {
            "text/html": [
              "<div>\n",
              "<style scoped>\n",
              "    .dataframe tbody tr th:only-of-type {\n",
              "        vertical-align: middle;\n",
              "    }\n",
              "\n",
              "    .dataframe tbody tr th {\n",
              "        vertical-align: top;\n",
              "    }\n",
              "\n",
              "    .dataframe thead th {\n",
              "        text-align: right;\n",
              "    }\n",
              "</style>\n",
              "<table border=\"1\" class=\"dataframe\">\n",
              "  <thead>\n",
              "    <tr style=\"text-align: right;\">\n",
              "      <th></th>\n",
              "      <th>Meta features plus initial features</th>\n",
              "      <th>Only initial features</th>\n",
              "      <th>Only meta-features</th>\n",
              "    </tr>\n",
              "  </thead>\n",
              "  <tbody>\n",
              "    <tr>\n",
              "      <th>KNeighborsClassifier</th>\n",
              "      <td>0.967399</td>\n",
              "      <td>0.967403</td>\n",
              "      <td>0.968211</td>\n",
              "    </tr>\n",
              "    <tr>\n",
              "      <th>LinearRegression</th>\n",
              "      <td>0.970295</td>\n",
              "      <td>0.776472</td>\n",
              "      <td>0.970219</td>\n",
              "    </tr>\n",
              "    <tr>\n",
              "      <th>RandomForestClassifier</th>\n",
              "      <td>0.970687</td>\n",
              "      <td>0.943289</td>\n",
              "      <td>0.961070</td>\n",
              "    </tr>\n",
              "  </tbody>\n",
              "</table>\n",
              "</div>"
            ],
            "text/plain": [
              "                        Meta features plus initial features  \\\n",
              "KNeighborsClassifier                               0.967399   \n",
              "LinearRegression                                   0.970295   \n",
              "RandomForestClassifier                             0.970687   \n",
              "\n",
              "                        Only initial features  Only meta-features  \n",
              "KNeighborsClassifier                 0.967403            0.968211  \n",
              "LinearRegression                     0.776472            0.970219  \n",
              "RandomForestClassifier               0.943289            0.961070  "
            ]
          },
          "metadata": {
            "tags": []
          },
          "execution_count": 16
        }
      ]
    },
    {
      "metadata": {
        "id": "p-ks6Fo4LlSe",
        "colab_type": "text"
      },
      "cell_type": "markdown",
      "source": [
        "Увеличение числа фолдов почти не улучшило качество классификации."
      ]
    },
    {
      "metadata": {
        "id": "TMus76w3PjWi",
        "colab_type": "code",
        "colab": {
          "base_uri": "https://localhost:8080/",
          "height": 55
        },
        "outputId": "7ef7e835-8bd5-4934-b138-43c040e7042f"
      },
      "cell_type": "code",
      "source": [
        "lr = LogisticRegression()\n",
        "lr.fit(train_data, y_train)\n",
        "y_pred = lr.predict(test_data)\n",
        "print('linear model over meta dataset: ', accuracy_score(y_test, y_pred))\n",
        "print('averaging over meta dataset: ', accuracy_score(y_test, np.round(np.mean(test_data, axis=1))))"
      ],
      "execution_count": 26,
      "outputs": [
        {
          "output_type": "stream",
          "text": [
            "linear model over meta dataset:  0.9714829281297083\n",
            "averaging over meta dataset:  0.9076224598196073\n"
          ],
          "name": "stdout"
        }
      ]
    },
    {
      "metadata": {
        "id": "yo_yzGIgRTtS",
        "colab_type": "text"
      },
      "cell_type": "markdown",
      "source": [
        "**Дает ли преимущество линейная модель? О чем говорят коэффициенты линейной модели в данном случае?**\n",
        "\n",
        "Линейная модель показывает намного более хороший результат, чем простое усреднение. Вообще, её результат лучший из всех предыдущих. Видимо, стоило так же рассматривать логистическую регрессию в качестве мета-классификатора."
      ]
    },
    {
      "metadata": {
        "id": "O4z770SRRhP4",
        "colab_type": "code",
        "colab": {
          "base_uri": "https://localhost:8080/",
          "height": 36
        },
        "outputId": "8c00cff7-3d40-4099-92e7-ffcc777a27bf"
      },
      "cell_type": "code",
      "source": [
        "lr.coef_ "
      ],
      "execution_count": 30,
      "outputs": [
        {
          "output_type": "execute_result",
          "data": {
            "text/plain": [
              "array([[ 7.43400692, -1.51068721,  5.02942403, -0.11047876]])"
            ]
          },
          "metadata": {
            "tags": []
          },
          "execution_count": 30
        }
      ]
    },
    {
      "metadata": {
        "id": "LcxLv-GJSJlq",
        "colab_type": "text"
      },
      "cell_type": "markdown",
      "source": [
        "Коэффициенты линейной модели говорят о том, на сколько полезен тот или иной признак. Видно, что наибольший по модулю коэффициент приходится на KNeighborsClassifier(), что удивительно) "
      ]
    },
    {
      "metadata": {
        "id": "Gd2_d1AAHLsf",
        "colab_type": "text"
      },
      "cell_type": "markdown",
      "source": [
        "## Поисковое ранжирование\n",
        "\n",
        "![](http://i.imgur.com/2QnD2nF.jpg)\n",
        "\n",
        "Задачу поискового ранжирования можно описать следующим образом: имеется множество документов $d \\in D$ и множество запросов $q \\in Q$. Требуется оценить *степень релевантности* документа по отношению к запросу: $(q, d) \\mapsto r$, относительно которой будет производиться ранжирование. Для восстановления этой зависимости используются методы машинного обучения. Обычно используется три типа:\n",
        " - признаки запроса $q$, например: мешок слов текста запроса, его длина, ...\n",
        " - документа $d$, например: значение PageRank, мешок слов, доменное имя, ...\n",
        " - пары $(q, d)$, например: число вхождений фразы из запроса $q$ в документе $d$, ...\n",
        "\n",
        "Одна из отличительных особенностей задачи ранжирования от классических задач машинного обучения заключается в том, что качество результата зависит не от предсказанных оценок релевантности, а от порядка следования документов в рамках конкретного запроса, т.е. важно не абсолютное значение релевантности (его достаточно трудно формализовать в виде числа), а то, более или менее релевантен документ, относительно других документов.\n",
        "### Подходы к решению задачи ранжирования\n",
        "Существуют 3 основных подхода, различие между которыми в используемой функции потерь:\n",
        "  \n",
        "1. **Pointwise подход**. В этом случае рассматривается *один объект* (в случае поискового ранжирования - конкретный документ) и функция потерь считается только по нему. Любой стандартный классификатор или регрессор может решать pointwise задачу ранжирования, обучившись предсказывать значение таргета. Итоговое ранжирование получается после сортировки документов к одному запросу по предсказанию такой модели.\n",
        "2. **Pairwise подход**. В рамках данной модели функция потерь вычисляется по *паре объектов*. Другими словами, функция потерь штрафует модель, если отражированная этой моделью пара документов оказалась в неправильном порядке.\n",
        "3. **Listwise подход**. Этот подход использует все объекты для вычисления функции потерь, стараясь явно оптимизировать правильный порядок.\n",
        "\n",
        "### Оценка качества\n",
        "\n",
        "Для оценивания качества ранжирования найденных документов в поиске используются асессорские оценки. Само оценивание происходит на скрытых от обучения запросах $Queries$. Для этого традиционно используется метрика *DCG* ([Discounted Cumulative Gain](https://en.wikipedia.org/wiki/Discounted_cumulative_gain)) и ее нормализованный вариант — *nDCG*, всегда принимающий значения от 0 до 1.\n",
        "Для одного запроса DCG считается следующим образом:\n",
        "$$ DCG = \\sum_{i=1}^P\\frac{(2^{rel_i} - 1)}{\\log_2(i+1)}, $$\n",
        "\n",
        "где $P$ — число документов в поисковой выдаче, $rel_i$ — релевантность (асессорская оценка) документа, находящегося на i-той позиции.\n",
        "\n",
        "*IDCG* — идеальное (наибольшее из возможных) значение *DCG*, может быть получено путем ранжирования документов по убыванию асессорских оценок.\n",
        "\n",
        "Итоговая формула для расчета *nDCG*:\n",
        "\n",
        "$$nDCG = \\frac{DCG}{IDCG} \\in [0, 1].$$\n",
        "\n",
        "Чтобы оценить значение *nDCG* на выборке $Queries$ ($nDCG_{Queries}$) размера $N$, необходимо усреднить значение *nDCG* по всем запросам  выборки:\n",
        "$$nDCG_{Queries} = \\frac{1}{N}\\sum_{q \\in Queries}nDCG(q).$$\n",
        "\n",
        "Пример реализации метрик ранжирование на python можно найти [здесь](https://gist.github.com/mblondel/7337391)."
      ]
    },
    {
      "metadata": {
        "id": "PbJl73fYSH7K",
        "colab_type": "text"
      },
      "cell_type": "markdown",
      "source": [
        ""
      ]
    },
    {
      "metadata": {
        "id": "XR2bDUDBHLsg",
        "colab_type": "text"
      },
      "cell_type": "markdown",
      "source": [
        "Загрузите данные конкурса [Интернет-математика 2009](http://imat2009.yandex.ru/datasets). Там же находится описание данных. Сами данные можно скачать [здесь](https://www.dropbox.com/s/xj3g18s01m1euzl/imat2009.tar.bz2?dl=0). Разбейте обучающую выборку на обучение и контроль в соотношении 70 / 30. Обратите внимание на формат данных: разбивать необходимо множество запросов, а не строчки датасета."
      ]
    },
    {
      "metadata": {
        "id": "pYVBoB7YHLsi",
        "colab_type": "code",
        "colab": {
          "base_uri": "https://localhost:8080/",
          "height": 490
        },
        "outputId": "135b2b82-92f9-4f49-e56c-f618617d9b92"
      },
      "cell_type": "code",
      "source": [
        "!wget https://www.dropbox.com/s/xj3g18s01m1euzl/imat2009.tar.bz2&ts=1489637334&use_mirror=excellmedia\n"
      ],
      "execution_count": 2,
      "outputs": [
        {
          "output_type": "stream",
          "text": [
            "--2018-10-22 10:48:49--  https://www.dropbox.com/s/xj3g18s01m1euzl/imat2009.tar.bz2\n",
            "Resolving www.dropbox.com (www.dropbox.com)... 162.125.8.1, 2620:100:6018:1::a27d:301\n",
            "Connecting to www.dropbox.com (www.dropbox.com)|162.125.8.1|:443... connected.\n",
            "HTTP request sent, awaiting response... 301 Moved Permanently\n",
            "Location: /s/raw/xj3g18s01m1euzl/imat2009.tar.bz2 [following]\n",
            "--2018-10-22 10:48:50--  https://www.dropbox.com/s/raw/xj3g18s01m1euzl/imat2009.tar.bz2\n",
            "Reusing existing connection to www.dropbox.com:443.\n",
            "HTTP request sent, awaiting response... 302 Found\n",
            "Location: https://ucc18d6aa0fdf2c3825c119ad150.dl.dropboxusercontent.com/cd/0/inline/ATo5R65U8qj0h6XOeZG2nno1X7Or-ka4rEgGiTrlhqKCon8Rs4_miAgTnP6_xCj9mCvnvWUSZgRhHShdSePO_K-HBRq5RH4Vu2cD4ZmcAHHrYG3cIABzZHC51EOdlMAOOdPCW4tqu7g5Ah3yiWd_wbLz832KWhAUBSoH4o2IEKEEbIhvs7MQRSPz5nE8aJ5nmNY/file [following]\n",
            "--2018-10-22 10:48:50--  https://ucc18d6aa0fdf2c3825c119ad150.dl.dropboxusercontent.com/cd/0/inline/ATo5R65U8qj0h6XOeZG2nno1X7Or-ka4rEgGiTrlhqKCon8Rs4_miAgTnP6_xCj9mCvnvWUSZgRhHShdSePO_K-HBRq5RH4Vu2cD4ZmcAHHrYG3cIABzZHC51EOdlMAOOdPCW4tqu7g5Ah3yiWd_wbLz832KWhAUBSoH4o2IEKEEbIhvs7MQRSPz5nE8aJ5nmNY/file\n",
            "Resolving ucc18d6aa0fdf2c3825c119ad150.dl.dropboxusercontent.com (ucc18d6aa0fdf2c3825c119ad150.dl.dropboxusercontent.com)... 162.125.8.6, 2620:100:601b:6::a27d:806\n",
            "Connecting to ucc18d6aa0fdf2c3825c119ad150.dl.dropboxusercontent.com (ucc18d6aa0fdf2c3825c119ad150.dl.dropboxusercontent.com)|162.125.8.6|:443... connected.\n",
            "HTTP request sent, awaiting response... 302 FOUND\n",
            "Location: /cd/0/inline2/ATpTQUb0EcxWBDGr7-m3JrV56DUTDsRZnwkrRKnvyK6xxM0o7NhYd0tkzpF7mRNX7wCiroY8YYqdlB5AxWbsIdcYpvHQAoAzrAO1lnfoMi9rCEbWmORfdnqHwNo1GaI5bhfpch-LKTVmBNZZXLDTt9_fOqPYgoBgEB_BBHAY81_4EX1GKZqqqJl_EJTha9EKyxUFPkXqJ2hHJ_y2cTKuVbcU0fWbsxvF7jokb3Rb5HQE2zZQo6RB4PxXUyhnEIiO3A-4zT_p1_7jBfjW2aCgUi6AcWvdREnLjByV6fPFitADIiKgAWge8VcHprzPSvfcsQ12N5nNgJ_c2h15g1AtRKFlmqwZin-SPiP24E6wfiqSVfSC8Ftml_TUxPRBdTQQaLImdcIB1jrjEa7AovWQqgqU2ynHaPb7sA6GCVEO2siAbpZzddw6f9U0dAgvSp6vi3E/file [following]\n",
            "--2018-10-22 10:48:51--  https://ucc18d6aa0fdf2c3825c119ad150.dl.dropboxusercontent.com/cd/0/inline2/ATpTQUb0EcxWBDGr7-m3JrV56DUTDsRZnwkrRKnvyK6xxM0o7NhYd0tkzpF7mRNX7wCiroY8YYqdlB5AxWbsIdcYpvHQAoAzrAO1lnfoMi9rCEbWmORfdnqHwNo1GaI5bhfpch-LKTVmBNZZXLDTt9_fOqPYgoBgEB_BBHAY81_4EX1GKZqqqJl_EJTha9EKyxUFPkXqJ2hHJ_y2cTKuVbcU0fWbsxvF7jokb3Rb5HQE2zZQo6RB4PxXUyhnEIiO3A-4zT_p1_7jBfjW2aCgUi6AcWvdREnLjByV6fPFitADIiKgAWge8VcHprzPSvfcsQ12N5nNgJ_c2h15g1AtRKFlmqwZin-SPiP24E6wfiqSVfSC8Ftml_TUxPRBdTQQaLImdcIB1jrjEa7AovWQqgqU2ynHaPb7sA6GCVEO2siAbpZzddw6f9U0dAgvSp6vi3E/file\n",
            "Reusing existing connection to ucc18d6aa0fdf2c3825c119ad150.dl.dropboxusercontent.com:443.\n",
            "HTTP request sent, awaiting response... 200 OK\n",
            "Length: 44984588 (43M) [application/octet-stream]\n",
            "Saving to: ‘imat2009.tar.bz2’\n",
            "\n",
            "imat2009.tar.bz2    100%[===================>]  42.90M  45.4MB/s    in 0.9s    \n",
            "\n",
            "2018-10-22 10:48:52 (45.4 MB/s) - ‘imat2009.tar.bz2’ saved [44984588/44984588]\n",
            "\n"
          ],
          "name": "stdout"
        }
      ]
    },
    {
      "metadata": {
        "id": "AFGCU9h7WrYO",
        "colab_type": "code",
        "colab": {
          "base_uri": "https://localhost:8080/",
          "height": 74
        },
        "outputId": "23ad2fca-4b22-41d9-81d1-fd8f8921e5b9"
      },
      "cell_type": "code",
      "source": [
        "!tar xvjf imat2009.tar.bz2"
      ],
      "execution_count": 3,
      "outputs": [
        {
          "output_type": "stream",
          "text": [
            "imat2009-datasets/\n",
            "imat2009-datasets/imat2009_test.txt\n",
            "imat2009-datasets/imat2009_learning.txt\n"
          ],
          "name": "stdout"
        }
      ]
    },
    {
      "metadata": {
        "id": "Z9KMNcMIV5pS",
        "colab_type": "code",
        "colab": {}
      },
      "cell_type": "code",
      "source": [
        "with open('imat2009-datasets/imat2009_learning.txt') as f:\n",
        "    train_data = f.readlines()\n",
        "with open('imat2009-datasets/imat2009_test.txt') as f:\n",
        "    test_data = f.readlines()"
      ],
      "execution_count": 0,
      "outputs": []
    },
    {
      "metadata": {
        "id": "KbHfDBM5fpAm",
        "colab_type": "code",
        "colab": {
          "base_uri": "https://localhost:8080/",
          "height": 36
        },
        "outputId": "8ecb4faf-0a83-4c2d-8868-6c83dec023c8"
      },
      "cell_type": "code",
      "source": [
        "train_data[0][:100]"
      ],
      "execution_count": 58,
      "outputs": [
        {
          "output_type": "execute_result",
          "data": {
            "text/plain": [
              "'1 1:0.000023 7:0.704953 8:0.550315 9:0.032294 11:0.712631 14:0.015686 15:0.137255 16:0.302576 17:1.0'"
            ]
          },
          "metadata": {
            "tags": []
          },
          "execution_count": 58
        }
      ]
    },
    {
      "metadata": {
        "id": "ilYSjUMZXlVp",
        "colab_type": "code",
        "colab": {}
      },
      "cell_type": "code",
      "source": [
        "def extract_features(feature_arr):\n",
        "    features = np.zeros(245)\n",
        "    for line in feature_arr:\n",
        "        num, value = line.split(':')\n",
        "        features[int(num) - 1] = float(value)\n",
        "    return features\n",
        "\n",
        "  \n",
        "def create_dataset(data, is_train_data=False):\n",
        "    features, queries, relevances = [], [], []\n",
        "    \n",
        "    for line in data:\n",
        "        feature_array = line.strip().split()\n",
        "        relevances.append(feature_array[0])\n",
        "        features.append(extract_features(feature_array[1: -2]))\n",
        "        queries.append(feature_array[-1])\n",
        "        \n",
        "    df = pd.DataFrame(features)\n",
        "    df['query'] = queries\n",
        "    if is_train_data:\n",
        "        df['relevance'] = relevances\n",
        "    return df\n",
        "\n",
        "  \n",
        "def train_test_split_by_quieries(data):\n",
        "    all_train_data = create_dataset(data, is_train_data=True)\n",
        "    \n",
        "    queries = np.unique([line.strip().split()[-1] for line in data])\n",
        "    train_queries, test_queries = train_test_split(queries, train_size=0.7)\n",
        "\n",
        "    train_data = all_train_data[list(map(lambda q : q in train_queries, all_train_data['query']))]\n",
        "    test_data = all_train_data[list(map(lambda q : q in test_queries, all_train_data['query']))]\n",
        "    \n",
        "    columns_to_take = train_data.columns[:-1]\n",
        "    \n",
        "    return train_data[columns_to_take], test_data[columns_to_take], \\\n",
        "           train_data['relevance'].astype(float), test_data['relevance'].astype(float)"
      ],
      "execution_count": 0,
      "outputs": []
    },
    {
      "metadata": {
        "id": "lL_BMy0RX1CS",
        "colab_type": "code",
        "colab": {
          "base_uri": "https://localhost:8080/",
          "height": 94
        },
        "outputId": "1a8ed9dc-9aec-4cde-ae36-67874cc1d71e"
      },
      "cell_type": "code",
      "source": [
        "X_train, X_test, y_train, y_test = train_test_split_by_quieries(train_data)\n",
        "\n",
        "X_train.shape, X_test.shape"
      ],
      "execution_count": 6,
      "outputs": [
        {
          "output_type": "stream",
          "text": [
            "/usr/local/lib/python3.6/dist-packages/sklearn/model_selection/_split.py:2026: FutureWarning: From version 0.21, test_size will always complement train_size unless both are specified.\n",
            "  FutureWarning)\n"
          ],
          "name": "stderr"
        },
        {
          "output_type": "execute_result",
          "data": {
            "text/plain": [
              "((69018, 246), (28272, 246))"
            ]
          },
          "metadata": {
            "tags": []
          },
          "execution_count": 6
        }
      ]
    },
    {
      "metadata": {
        "id": "39Ot_6H7LTbA",
        "colab_type": "code",
        "colab": {
          "base_uri": "https://localhost:8080/",
          "height": 236
        },
        "outputId": "43236d55-2be1-49d7-f824-135c6e7a6322"
      },
      "cell_type": "code",
      "source": [
        "test_data_as_df = create_dataset(test_data)\n",
        "test_data_as_df.head()"
      ],
      "execution_count": 7,
      "outputs": [
        {
          "output_type": "execute_result",
          "data": {
            "text/html": [
              "<div>\n",
              "<style scoped>\n",
              "    .dataframe tbody tr th:only-of-type {\n",
              "        vertical-align: middle;\n",
              "    }\n",
              "\n",
              "    .dataframe tbody tr th {\n",
              "        vertical-align: top;\n",
              "    }\n",
              "\n",
              "    .dataframe thead th {\n",
              "        text-align: right;\n",
              "    }\n",
              "</style>\n",
              "<table border=\"1\" class=\"dataframe\">\n",
              "  <thead>\n",
              "    <tr style=\"text-align: right;\">\n",
              "      <th></th>\n",
              "      <th>0</th>\n",
              "      <th>1</th>\n",
              "      <th>2</th>\n",
              "      <th>3</th>\n",
              "      <th>4</th>\n",
              "      <th>5</th>\n",
              "      <th>6</th>\n",
              "      <th>7</th>\n",
              "      <th>8</th>\n",
              "      <th>9</th>\n",
              "      <th>...</th>\n",
              "      <th>236</th>\n",
              "      <th>237</th>\n",
              "      <th>238</th>\n",
              "      <th>239</th>\n",
              "      <th>240</th>\n",
              "      <th>241</th>\n",
              "      <th>242</th>\n",
              "      <th>243</th>\n",
              "      <th>244</th>\n",
              "      <th>query</th>\n",
              "    </tr>\n",
              "  </thead>\n",
              "  <tbody>\n",
              "    <tr>\n",
              "      <th>0</th>\n",
              "      <td>0.0</td>\n",
              "      <td>1.0</td>\n",
              "      <td>0.0</td>\n",
              "      <td>0.00</td>\n",
              "      <td>0.0</td>\n",
              "      <td>0.0</td>\n",
              "      <td>0.479999</td>\n",
              "      <td>0.000000</td>\n",
              "      <td>0.0</td>\n",
              "      <td>0.000000</td>\n",
              "      <td>...</td>\n",
              "      <td>0.0</td>\n",
              "      <td>0.0</td>\n",
              "      <td>0.0</td>\n",
              "      <td>0.00000</td>\n",
              "      <td>0.0</td>\n",
              "      <td>0.000000</td>\n",
              "      <td>0.0</td>\n",
              "      <td>1.000000</td>\n",
              "      <td>0.0</td>\n",
              "      <td>16427</td>\n",
              "    </tr>\n",
              "    <tr>\n",
              "      <th>1</th>\n",
              "      <td>0.0</td>\n",
              "      <td>1.0</td>\n",
              "      <td>0.0</td>\n",
              "      <td>0.51</td>\n",
              "      <td>0.0</td>\n",
              "      <td>1.0</td>\n",
              "      <td>0.807433</td>\n",
              "      <td>0.000000</td>\n",
              "      <td>0.0</td>\n",
              "      <td>0.000000</td>\n",
              "      <td>...</td>\n",
              "      <td>0.0</td>\n",
              "      <td>0.0</td>\n",
              "      <td>0.0</td>\n",
              "      <td>0.42843</td>\n",
              "      <td>0.0</td>\n",
              "      <td>0.000000</td>\n",
              "      <td>0.0</td>\n",
              "      <td>0.933333</td>\n",
              "      <td>0.0</td>\n",
              "      <td>16427</td>\n",
              "    </tr>\n",
              "    <tr>\n",
              "      <th>2</th>\n",
              "      <td>0.0</td>\n",
              "      <td>1.0</td>\n",
              "      <td>0.0</td>\n",
              "      <td>0.08</td>\n",
              "      <td>0.0</td>\n",
              "      <td>1.0</td>\n",
              "      <td>0.754434</td>\n",
              "      <td>0.684276</td>\n",
              "      <td>0.0</td>\n",
              "      <td>0.005165</td>\n",
              "      <td>...</td>\n",
              "      <td>0.0</td>\n",
              "      <td>0.0</td>\n",
              "      <td>0.0</td>\n",
              "      <td>0.00000</td>\n",
              "      <td>0.0</td>\n",
              "      <td>0.078431</td>\n",
              "      <td>0.0</td>\n",
              "      <td>0.949020</td>\n",
              "      <td>0.0</td>\n",
              "      <td>16427</td>\n",
              "    </tr>\n",
              "    <tr>\n",
              "      <th>3</th>\n",
              "      <td>0.0</td>\n",
              "      <td>1.0</td>\n",
              "      <td>0.0</td>\n",
              "      <td>0.51</td>\n",
              "      <td>0.0</td>\n",
              "      <td>0.0</td>\n",
              "      <td>0.742314</td>\n",
              "      <td>0.576655</td>\n",
              "      <td>0.0</td>\n",
              "      <td>0.000000</td>\n",
              "      <td>...</td>\n",
              "      <td>0.0</td>\n",
              "      <td>0.0</td>\n",
              "      <td>0.0</td>\n",
              "      <td>0.00000</td>\n",
              "      <td>0.0</td>\n",
              "      <td>0.000000</td>\n",
              "      <td>0.0</td>\n",
              "      <td>0.803922</td>\n",
              "      <td>0.0</td>\n",
              "      <td>16427</td>\n",
              "    </tr>\n",
              "    <tr>\n",
              "      <th>4</th>\n",
              "      <td>0.0</td>\n",
              "      <td>1.0</td>\n",
              "      <td>0.0</td>\n",
              "      <td>0.51</td>\n",
              "      <td>0.0</td>\n",
              "      <td>0.0</td>\n",
              "      <td>0.625239</td>\n",
              "      <td>0.000000</td>\n",
              "      <td>0.0</td>\n",
              "      <td>0.001706</td>\n",
              "      <td>...</td>\n",
              "      <td>0.0</td>\n",
              "      <td>0.0</td>\n",
              "      <td>0.0</td>\n",
              "      <td>0.00000</td>\n",
              "      <td>0.0</td>\n",
              "      <td>0.690196</td>\n",
              "      <td>0.0</td>\n",
              "      <td>1.000000</td>\n",
              "      <td>0.0</td>\n",
              "      <td>16427</td>\n",
              "    </tr>\n",
              "  </tbody>\n",
              "</table>\n",
              "<p>5 rows × 246 columns</p>\n",
              "</div>"
            ],
            "text/plain": [
              "     0    1    2     3    4    5         6         7    8         9  ...    \\\n",
              "0  0.0  1.0  0.0  0.00  0.0  0.0  0.479999  0.000000  0.0  0.000000  ...     \n",
              "1  0.0  1.0  0.0  0.51  0.0  1.0  0.807433  0.000000  0.0  0.000000  ...     \n",
              "2  0.0  1.0  0.0  0.08  0.0  1.0  0.754434  0.684276  0.0  0.005165  ...     \n",
              "3  0.0  1.0  0.0  0.51  0.0  0.0  0.742314  0.576655  0.0  0.000000  ...     \n",
              "4  0.0  1.0  0.0  0.51  0.0  0.0  0.625239  0.000000  0.0  0.001706  ...     \n",
              "\n",
              "   236  237  238      239  240       241  242       243  244  query  \n",
              "0  0.0  0.0  0.0  0.00000  0.0  0.000000  0.0  1.000000  0.0  16427  \n",
              "1  0.0  0.0  0.0  0.42843  0.0  0.000000  0.0  0.933333  0.0  16427  \n",
              "2  0.0  0.0  0.0  0.00000  0.0  0.078431  0.0  0.949020  0.0  16427  \n",
              "3  0.0  0.0  0.0  0.00000  0.0  0.000000  0.0  0.803922  0.0  16427  \n",
              "4  0.0  0.0  0.0  0.00000  0.0  0.690196  0.0  1.000000  0.0  16427  \n",
              "\n",
              "[5 rows x 246 columns]"
            ]
          },
          "metadata": {
            "tags": []
          },
          "execution_count": 7
        }
      ]
    },
    {
      "metadata": {
        "collapsed": true,
        "id": "eWZochWTHLsl",
        "colab_type": "text"
      },
      "cell_type": "markdown",
      "source": [
        "Далее рассмотрим несколько подходов предсказания релевантности. Для оценивания качества моделей используйте метрику nDCG на контроле. В случае подбора гиперпараметров используйте кросс-валидацию по 5 блокам, где разбиение должно быть по запросам, а не строчкам датасета.\n",
        "\n",
        "**(1 балл) Задание 10.** *Pointwise* подход. Воспользовавшись известными вам техниками построения линейной регрессии, обучите модель, предсказывающую оценку асессора."
      ]
    },
    {
      "metadata": {
        "id": "VNAoRayAmTrW",
        "colab_type": "text"
      },
      "cell_type": "markdown",
      "source": [
        "Возьмём реализацию метрик, приведённую по ссылке в задании."
      ]
    },
    {
      "metadata": {
        "id": "Zx_4xplEHLsn",
        "colab_type": "code",
        "colab": {}
      },
      "cell_type": "code",
      "source": [
        "def dcg_score(y_true, y_score, k=10, gains=\"exponential\"):\n",
        "    order = np.argsort(y_score)[::-1]\n",
        "    y_true = np.take(y_true, order[:k])\n",
        "    if gains == \"exponential\":\n",
        "        gains = 2 ** y_true - 1\n",
        "    elif gains == \"linear\":\n",
        "        gains = y_true\n",
        "    else:\n",
        "        raise ValueError(\"Invalid gains option.\")\n",
        "\n",
        "    # highest rank is 1 so +2 instead of +1\n",
        "    discounts = np.log2(np.arange(len(y_true)) + 2)\n",
        "    return np.sum(gains / discounts)\n",
        "\n",
        "\n",
        "def ndcg_score(y_true, y_score, k=10, gains=\"exponential\"):\n",
        "    best = dcg_score(y_true, y_true, k, gains)\n",
        "    actual = dcg_score(y_true, y_score, k, gains)\n",
        "    if best == 0 and actual == 0:\n",
        "        return 1\n",
        "    return actual / best"
      ],
      "execution_count": 0,
      "outputs": []
    },
    {
      "metadata": {
        "id": "tpPcFwDf1q6M",
        "colab_type": "text"
      },
      "cell_type": "markdown",
      "source": [
        "Посчитаем NCDG. Для каждого запроса считаем ndcg, потом усредняем"
      ]
    },
    {
      "metadata": {
        "id": "dD1gxkGWm1QF",
        "colab_type": "code",
        "colab": {
          "base_uri": "https://localhost:8080/",
          "height": 36
        },
        "outputId": "2363a390-efc1-4493-8381-ebe48fb1a926"
      },
      "cell_type": "code",
      "source": [
        "lr = LinearRegression(n_jobs=-1)\n",
        "lr.fit(X_train, y_train)\n",
        "y_pred = lr.predict(X_test)\n",
        "\n",
        "ndcgs = []\n",
        "for q in np.unique(X_test['query']):\n",
        "    bool_idxs = (X_test['query'] == q)\n",
        "    ndcgs.append(ndcg_score(np.array(y_test[bool_idxs]), y_pred[bool_idxs]))\n",
        "    \n",
        "print('NDCG = {}'.format(np.mean(ndcgs)))"
      ],
      "execution_count": 118,
      "outputs": [
        {
          "output_type": "stream",
          "text": [
            "NDCG = 0.8301642959109\n"
          ],
          "name": "stdout"
        }
      ]
    },
    {
      "metadata": {
        "id": "QWFzWF-JHLsq",
        "colab_type": "text"
      },
      "cell_type": "markdown",
      "source": [
        "###  Ранжируем с XGBoost\n",
        "\n",
        "XGBoost имеет несколько функций потерь для решения задачи ранжирования:\n",
        "1. **reg:linear** — данную функцию потерь можно использовать для решения задачи ранжирование *pointwise* подходом.\n",
        "2. **rank:pairwise** — в качестве *pairwise* модели в XGBoost реализован [RankNet](http://icml.cc/2015/wp-content/uploads/2015/06/icml_ranking.pdf), в котором минимизируется гладкий функционал качества ранжирования: $$ Obj = \\sum_{i \\prec j} \\mathcal{L}\\left(a(x_j) - a(x_i)\\right) \\rightarrow min $$ $$ \\mathcal{L}(M) = log(1 + e^{-M}), $$ где $ a(x) $ - функция ранжирования. Суммирование ведется по всем парам объектов, для которых определено отношение порядка, например, для пар документов, показанных по одному запросу. Таким образом функция потерь штрафует за то, что пара объектов неправильно упорядочена.\n",
        "3. **rank:map, rank:ndcg** — реализация [LambdaRank](https://www.microsoft.com/en-us/research/wp-content/uploads/2016/02/MSR-TR-2010-82.pdf) для двух метрик: [MAP](https://en.wikipedia.org/wiki/Information_retrieval#Mean_average_precision) и **nDCG**. Известно, что для того, чтобы оптимизировать негладкий функционал, такой как **nDCG**,  нужно домножить градиент функционала $ Obj(a) $ на значение $\\Delta NDCG_{ij} $ — изменение значения функционала качества при замене $x_i$ на $ x_j$.  Поскольку для вычисления метрик необходимы все объекты выборки, то эти две ранжирующие функции потерь являются представителями класса *listwise* моделей."
      ]
    },
    {
      "metadata": {
        "id": "WlT11GcIHLss",
        "colab_type": "text"
      },
      "cell_type": "markdown",
      "source": [
        "**(2 балла) Задание 11.** Обучите модели **reg:linear**, **rank:pairwise** и **rank:ndcg**, в качестве метрики оценки качества (*eval_metric*) используя *nDCG*, а в качестве бустера решающее дерево. Настройте [параметры](https://github.com/dmlc/xgboost/blob/master/doc/parameter.md) алгоритма и добейтесь высокого качества на тестовой выборке."
      ]
    },
    {
      "metadata": {
        "id": "SDg4Y95DPeEi",
        "colab_type": "code",
        "colab": {
          "base_uri": "https://localhost:8080/",
          "height": 112
        },
        "outputId": "6ae17b63-1c40-402b-9fb8-4f2cf69adc08"
      },
      "cell_type": "code",
      "source": [
        "train_indices, train_lengths = [], []\n",
        "for name, group in pd.groupby(X_train, 'query'):\n",
        "    train_indices += list(group.index)\n",
        "    train_lengths.append(len(group))\n",
        "    \n",
        "test_indices, test_lengths = [], []\n",
        "for name, group in pd.groupby(X_test, 'query'):\n",
        "    test_indices += list(group.index)\n",
        "    test_lengths.append(len(group))\n",
        "\n",
        "X_train, y_train = X_train.loc[train_indices], y_train.loc[train_indices]\n",
        "X_test, y_test = X_test.loc[test_indices], y_test.loc[test_indices]"
      ],
      "execution_count": 8,
      "outputs": [
        {
          "output_type": "stream",
          "text": [
            "/usr/local/lib/python3.6/dist-packages/ipykernel_launcher.py:2: FutureWarning: pd.groupby() is deprecated and will be removed; Please use the Series.groupby() or DataFrame.groupby() methods\n",
            "  \n",
            "/usr/local/lib/python3.6/dist-packages/ipykernel_launcher.py:7: FutureWarning: pd.groupby() is deprecated and will be removed; Please use the Series.groupby() or DataFrame.groupby() methods\n",
            "  import sys\n"
          ],
          "name": "stderr"
        }
      ]
    },
    {
      "metadata": {
        "id": "3TpZ21mxHLst",
        "colab_type": "code",
        "colab": {
          "base_uri": "https://localhost:8080/",
          "height": 74
        },
        "outputId": "c5c886c8-34a3-4caf-f65c-f39070c07ba8"
      },
      "cell_type": "code",
      "source": [
        "train_dmatrix = DMatrix(X_train[X_train.columns[:-1]], y_train)\n",
        "valid_dmatrix = DMatrix(X_test[X_test.columns[:-1]], y_test)\n",
        "\n",
        "train_dmatrix.set_group(train_lengths)\n",
        "valid_dmatrix.set_group(test_lengths)\n",
        "\n",
        "params = {'objective': 'reg:linear', 'eval_metric' : 'ndcg'}\n",
        "xgb_model = xgb.train(params, train_dmatrix, num_boost_round=100, verbose_eval=50, evals=[(valid_dmatrix, 'validation')])"
      ],
      "execution_count": 88,
      "outputs": [
        {
          "output_type": "stream",
          "text": [
            "[0]\tvalidation-ndcg:0.833818\n",
            "[50]\tvalidation-ndcg:0.864369\n",
            "[99]\tvalidation-ndcg:0.86474\n"
          ],
          "name": "stdout"
        }
      ]
    },
    {
      "metadata": {
        "id": "KyI4Dz2chCKh",
        "colab_type": "text"
      },
      "cell_type": "markdown",
      "source": [
        "Подберем параметры."
      ]
    },
    {
      "metadata": {
        "id": "_lFfob00hFEX",
        "colab_type": "code",
        "colab": {}
      },
      "cell_type": "code",
      "source": [
        "def search_for_one_param(param_name, param_list, objective):\n",
        "    for param in param_list:\n",
        "        print('{} = {}'.format(param_name, param))\n",
        "        params = {\n",
        "            'objective': objective,\n",
        "            param_name: param,\n",
        "            'eval_metric' : 'ndcg'\n",
        "        }\n",
        "        xgb_model = xgb.train(params, train_dmatrix, num_boost_round=100, verbose_eval=100,\n",
        "                               evals=[(valid_dmatrix, 'validation')])\n",
        "        print()\n",
        "    print()\n",
        "\n",
        "        \n",
        "def search_for_two_params(first_param_name, first_param_list, \n",
        "                          second_param_name, second_param_list, objective):\n",
        "    for first_param in first_param_list:\n",
        "        for second_param in second_param_list:\n",
        "            print('{} = {}, {} = {}'.format(first_param_name, first_param, second_param_name, second_param))\n",
        "            params = {\n",
        "                'objective': objective,\n",
        "                first_param_name: first_param,\n",
        "                second_param_name: second_param,\n",
        "                'eval_metric' : 'ndcg'\n",
        "            }\n",
        "            xgb_model = xgb.train(params, train_dmatrix, num_boost_round=100, verbose_eval=100,\n",
        "                                   evals=[(valid_dmatrix, 'validation')])\n",
        "            print()\n",
        "    print()"
      ],
      "execution_count": 0,
      "outputs": []
    },
    {
      "metadata": {
        "id": "Z_9IwVkXk1CT",
        "colab_type": "code",
        "colab": {
          "base_uri": "https://localhost:8080/",
          "height": 791
        },
        "outputId": "ae8d099d-fbc9-44b0-8da6-6d01b52bab61"
      },
      "cell_type": "code",
      "source": [
        "search_for_one_param('lambda', np.linspace(0, 25, 10), objective='reg:linear')"
      ],
      "execution_count": 93,
      "outputs": [
        {
          "output_type": "stream",
          "text": [
            "lambda = 0.0\n",
            "[0]\tvalidation-ndcg:0.833465\n",
            "[99]\tvalidation-ndcg:0.862398\n",
            "\n",
            "lambda = 2.7777777777777777\n",
            "[0]\tvalidation-ndcg:0.833833\n",
            "[99]\tvalidation-ndcg:0.864841\n",
            "\n",
            "lambda = 5.555555555555555\n",
            "[0]\tvalidation-ndcg:0.832397\n",
            "[99]\tvalidation-ndcg:0.867538\n",
            "\n",
            "lambda = 8.333333333333332\n",
            "[0]\tvalidation-ndcg:0.831546\n",
            "[99]\tvalidation-ndcg:0.86712\n",
            "\n",
            "lambda = 11.11111111111111\n",
            "[0]\tvalidation-ndcg:0.832445\n",
            "[99]\tvalidation-ndcg:0.86691\n",
            "\n",
            "lambda = 13.88888888888889\n",
            "[0]\tvalidation-ndcg:0.832177\n",
            "[99]\tvalidation-ndcg:0.868584\n",
            "\n",
            "lambda = 16.666666666666664\n",
            "[0]\tvalidation-ndcg:0.832304\n",
            "[99]\tvalidation-ndcg:0.867692\n",
            "\n",
            "lambda = 19.444444444444443\n",
            "[0]\tvalidation-ndcg:0.831389\n",
            "[99]\tvalidation-ndcg:0.869353\n",
            "\n",
            "lambda = 22.22222222222222\n",
            "[0]\tvalidation-ndcg:0.832794\n",
            "[99]\tvalidation-ndcg:0.867104\n",
            "\n",
            "lambda = 25.0\n",
            "[0]\tvalidation-ndcg:0.832034\n",
            "[99]\tvalidation-ndcg:0.867854\n",
            "\n",
            "\n"
          ],
          "name": "stdout"
        }
      ]
    },
    {
      "metadata": {
        "id": "IBZiqI56dm5z",
        "colab_type": "text"
      },
      "cell_type": "markdown",
      "source": [
        "Лучший результат: lambda =13.88888888888889."
      ]
    },
    {
      "metadata": {
        "id": "dQCR1uu4mJk1",
        "colab_type": "code",
        "colab": {
          "base_uri": "https://localhost:8080/",
          "height": 941
        },
        "outputId": "32b6a200-8d85-40dd-e654-368041d689a8"
      },
      "cell_type": "code",
      "source": [
        "search_for_two_params('max_depth', range(3, 10, 2), 'min_child_weight', [4, 5, 6], objective='reg:linear')"
      ],
      "execution_count": 94,
      "outputs": [
        {
          "output_type": "stream",
          "text": [
            "max_depth = 3, min_child_weight = 4\n",
            "[0]\tvalidation-ndcg:0.814671\n",
            "[99]\tvalidation-ndcg:0.865415\n",
            "\n",
            "max_depth = 3, min_child_weight = 5\n",
            "[0]\tvalidation-ndcg:0.814671\n",
            "[99]\tvalidation-ndcg:0.865554\n",
            "\n",
            "max_depth = 3, min_child_weight = 6\n",
            "[0]\tvalidation-ndcg:0.814671\n",
            "[99]\tvalidation-ndcg:0.865455\n",
            "\n",
            "max_depth = 5, min_child_weight = 4\n",
            "[0]\tvalidation-ndcg:0.82738\n",
            "[99]\tvalidation-ndcg:0.866944\n",
            "\n",
            "max_depth = 5, min_child_weight = 5\n",
            "[0]\tvalidation-ndcg:0.82738\n",
            "[99]\tvalidation-ndcg:0.867447\n",
            "\n",
            "max_depth = 5, min_child_weight = 6\n",
            "[0]\tvalidation-ndcg:0.827453\n",
            "[99]\tvalidation-ndcg:0.867801\n",
            "\n",
            "max_depth = 7, min_child_weight = 4\n",
            "[0]\tvalidation-ndcg:0.836616\n",
            "[99]\tvalidation-ndcg:0.864236\n",
            "\n",
            "max_depth = 7, min_child_weight = 5\n",
            "[0]\tvalidation-ndcg:0.836346\n",
            "[99]\tvalidation-ndcg:0.862354\n",
            "\n",
            "max_depth = 7, min_child_weight = 6\n",
            "[0]\tvalidation-ndcg:0.836435\n",
            "[99]\tvalidation-ndcg:0.863897\n",
            "\n",
            "max_depth = 9, min_child_weight = 4\n",
            "[0]\tvalidation-ndcg:0.836524\n",
            "[99]\tvalidation-ndcg:0.858669\n",
            "\n",
            "max_depth = 9, min_child_weight = 5\n",
            "[0]\tvalidation-ndcg:0.8365\n",
            "[99]\tvalidation-ndcg:0.856214\n",
            "\n",
            "max_depth = 9, min_child_weight = 6\n",
            "[0]\tvalidation-ndcg:0.836279\n",
            "[99]\tvalidation-ndcg:0.858417\n",
            "\n",
            "\n"
          ],
          "name": "stdout"
        }
      ]
    },
    {
      "metadata": {
        "id": "uEyBepWCaGic",
        "colab_type": "text"
      },
      "cell_type": "markdown",
      "source": [
        "best parameters:  \n",
        "\n",
        "max_depth = 5, min_child_weight = 6  \n",
        "[0]\tvalidation-ndcg:0.827453  \n",
        "[99]\tvalidation-ndcg:0.867801  "
      ]
    },
    {
      "metadata": {
        "id": "ldrL25zbaiIQ",
        "colab_type": "code",
        "colab": {
          "base_uri": "https://localhost:8080/",
          "height": 413
        },
        "outputId": "187512ab-6aa0-4d44-f22d-32e599fc158c"
      },
      "cell_type": "code",
      "source": [
        "search_for_one_param('gamma', [i / 10.0 for i in range(0, 5)], objective='reg:linear')"
      ],
      "execution_count": 95,
      "outputs": [
        {
          "output_type": "stream",
          "text": [
            "gamma = 0.0\n",
            "[0]\tvalidation-ndcg:0.833818\n",
            "[99]\tvalidation-ndcg:0.86474\n",
            "\n",
            "gamma = 0.1\n",
            "[0]\tvalidation-ndcg:0.833818\n",
            "[99]\tvalidation-ndcg:0.866566\n",
            "\n",
            "gamma = 0.2\n",
            "[0]\tvalidation-ndcg:0.833818\n",
            "[99]\tvalidation-ndcg:0.86384\n",
            "\n",
            "gamma = 0.3\n",
            "[0]\tvalidation-ndcg:0.833818\n",
            "[99]\tvalidation-ndcg:0.864398\n",
            "\n",
            "gamma = 0.4\n",
            "[0]\tvalidation-ndcg:0.833818\n",
            "[99]\tvalidation-ndcg:0.864359\n",
            "\n",
            "\n"
          ],
          "name": "stdout"
        }
      ]
    },
    {
      "metadata": {
        "id": "Yl1FTxz38oOY",
        "colab_type": "text"
      },
      "cell_type": "markdown",
      "source": [
        "best parameter:\n",
        "\n",
        "gamma = 0.1  \n",
        "[0]\tvalidation-ndcg:0.833818  \n",
        "[99]\tvalidation-ndcg:0.866566  "
      ]
    },
    {
      "metadata": {
        "id": "Qnm26HY4bGXC",
        "colab_type": "code",
        "colab": {
          "base_uri": "https://localhost:8080/",
          "height": 1243
        },
        "outputId": "0c792f30-5c51-43b6-8f52-44a238eb9691"
      },
      "cell_type": "code",
      "source": [
        "search_for_two_params('subsample', [i / 10.0 for i in range(6, 10)], \n",
        "                      'colsample_bytree', [i / 10.0 for i in range(6, 10)], \n",
        "                       objective='reg:linear')"
      ],
      "execution_count": 96,
      "outputs": [
        {
          "output_type": "stream",
          "text": [
            "subsample = 0.6, colsample_bytree = 0.6\n",
            "[0]\tvalidation-ndcg:0.830057\n",
            "[99]\tvalidation-ndcg:0.864258\n",
            "\n",
            "subsample = 0.6, colsample_bytree = 0.7\n",
            "[0]\tvalidation-ndcg:0.832561\n",
            "[99]\tvalidation-ndcg:0.86128\n",
            "\n",
            "subsample = 0.6, colsample_bytree = 0.8\n",
            "[0]\tvalidation-ndcg:0.830918\n",
            "[99]\tvalidation-ndcg:0.862593\n",
            "\n",
            "subsample = 0.6, colsample_bytree = 0.9\n",
            "[0]\tvalidation-ndcg:0.831695\n",
            "[99]\tvalidation-ndcg:0.860113\n",
            "\n",
            "subsample = 0.7, colsample_bytree = 0.6\n",
            "[0]\tvalidation-ndcg:0.829329\n",
            "[99]\tvalidation-ndcg:0.863537\n",
            "\n",
            "subsample = 0.7, colsample_bytree = 0.7\n",
            "[0]\tvalidation-ndcg:0.834767\n",
            "[99]\tvalidation-ndcg:0.866846\n",
            "\n",
            "subsample = 0.7, colsample_bytree = 0.8\n",
            "[0]\tvalidation-ndcg:0.834115\n",
            "[99]\tvalidation-ndcg:0.863773\n",
            "\n",
            "subsample = 0.7, colsample_bytree = 0.9\n",
            "[0]\tvalidation-ndcg:0.832109\n",
            "[99]\tvalidation-ndcg:0.861671\n",
            "\n",
            "subsample = 0.8, colsample_bytree = 0.6\n",
            "[0]\tvalidation-ndcg:0.826272\n",
            "[99]\tvalidation-ndcg:0.863523\n",
            "\n",
            "subsample = 0.8, colsample_bytree = 0.7\n",
            "[0]\tvalidation-ndcg:0.830598\n",
            "[99]\tvalidation-ndcg:0.862834\n",
            "\n",
            "subsample = 0.8, colsample_bytree = 0.8\n",
            "[0]\tvalidation-ndcg:0.830292\n",
            "[99]\tvalidation-ndcg:0.862999\n",
            "\n",
            "subsample = 0.8, colsample_bytree = 0.9\n",
            "[0]\tvalidation-ndcg:0.830552\n",
            "[99]\tvalidation-ndcg:0.863199\n",
            "\n",
            "subsample = 0.9, colsample_bytree = 0.6\n",
            "[0]\tvalidation-ndcg:0.82454\n",
            "[99]\tvalidation-ndcg:0.865199\n",
            "\n",
            "subsample = 0.9, colsample_bytree = 0.7\n",
            "[0]\tvalidation-ndcg:0.832736\n",
            "[99]\tvalidation-ndcg:0.865304\n",
            "\n",
            "subsample = 0.9, colsample_bytree = 0.8\n",
            "[0]\tvalidation-ndcg:0.830895\n",
            "[99]\tvalidation-ndcg:0.864672\n",
            "\n",
            "subsample = 0.9, colsample_bytree = 0.9\n",
            "[0]\tvalidation-ndcg:0.830456\n",
            "[99]\tvalidation-ndcg:0.866588\n",
            "\n",
            "\n"
          ],
          "name": "stdout"
        }
      ]
    },
    {
      "metadata": {
        "id": "82YvjmQGcQwW",
        "colab_type": "text"
      },
      "cell_type": "markdown",
      "source": [
        "best result:   \n",
        "\n",
        "subsample = 0.7, colsample_bytree = 0.7  \n",
        "[0]\tvalidation-ndcg:0.834767  \n",
        "[99]\tvalidation-ndcg:0.866846  "
      ]
    },
    {
      "metadata": {
        "id": "rCraayswcjEw",
        "colab_type": "code",
        "colab": {
          "base_uri": "https://localhost:8080/",
          "height": 413
        },
        "outputId": "208cd480-2d9d-4cdc-9b31-133e65f49576"
      },
      "cell_type": "code",
      "source": [
        "search_for_one_param('reg_alpha', [0, 0.001, 0.005, 0.01, 0.05], objective='reg:linear')"
      ],
      "execution_count": 98,
      "outputs": [
        {
          "output_type": "stream",
          "text": [
            "reg_alpha = 0\n",
            "[0]\tvalidation-ndcg:0.833818\n",
            "[99]\tvalidation-ndcg:0.86474\n",
            "\n",
            "reg_alpha = 0.001\n",
            "[0]\tvalidation-ndcg:0.833818\n",
            "[99]\tvalidation-ndcg:0.863871\n",
            "\n",
            "reg_alpha = 0.005\n",
            "[0]\tvalidation-ndcg:0.833818\n",
            "[99]\tvalidation-ndcg:0.865645\n",
            "\n",
            "reg_alpha = 0.01\n",
            "[0]\tvalidation-ndcg:0.833818\n",
            "[99]\tvalidation-ndcg:0.864793\n",
            "\n",
            "reg_alpha = 0.05\n",
            "[0]\tvalidation-ndcg:0.833818\n",
            "[99]\tvalidation-ndcg:0.863561\n",
            "\n",
            "\n"
          ],
          "name": "stdout"
        }
      ]
    },
    {
      "metadata": {
        "id": "j5rcQTa4dAZe",
        "colab_type": "text"
      },
      "cell_type": "markdown",
      "source": [
        "Можно взять alpha =  0.01, её результат validation-ndcg:0.833818"
      ]
    },
    {
      "metadata": {
        "id": "EqwxFqSuddlS",
        "colab_type": "code",
        "colab": {
          "base_uri": "https://localhost:8080/",
          "height": 74
        },
        "outputId": "b773c843-b8c3-4cd5-a6e4-3a56743dc9c7"
      },
      "cell_type": "code",
      "source": [
        "params = {'objective': 'reg:linear’,\n",
        "\t\t'eval_metric' : 'ndcg'\n",
        "\t\t'lambda': 13.88888888888889,\n",
        "\t\t'gamma': 0.1,\n",
        "\t\t 'max_depth': 5, \n",
        "\t\t'min_child_weight' : 6,\n",
        "\t\t 'subsample': 0.7,\n",
        "                 'colsample_bytree': 0.7,\n",
        "\t\t'reg_alpha': 0.01}\n",
        "\n",
        "xgb_model = xgb.train(params, train_dmatrix, num_boost_round=100, verbose_eval=50,\n",
        "                      evals=[(valid_dmatrix, 'validation')])"
      ],
      "execution_count": 91,
      "outputs": [
        {
          "output_type": "stream",
          "text": [
            "[0]\tvalidation-ndcg:0.835159\n",
            "[50]\tvalidation-ndcg:0.862947\n",
            "[99]\tvalidation-ndcg:0.863061\n"
          ],
          "name": "stdout"
        }
      ]
    },
    {
      "metadata": {
        "id": "Dsx9N2NvfJ7K",
        "colab_type": "text"
      },
      "cell_type": "markdown",
      "source": [
        "Это хуже предыдущего результата.\n",
        "\n",
        "[0]\tvalidation-ndcg:0.833818  \n",
        "[50]\tvalidation-ndcg:0.864369  \n",
        "[99]\tvalidation-ndcg:0.86474  "
      ]
    },
    {
      "metadata": {
        "id": "2YsA5c7LgJkP",
        "colab_type": "text"
      },
      "cell_type": "markdown",
      "source": [
        "Лучший результат на валидации для pointwise подхода в итоге: validation-ndcg:0.86474.   \n",
        "\n",
        "Запустим валидацию с параметрами по умолчанию для rank:pairwise"
      ]
    },
    {
      "metadata": {
        "id": "1o4ExakqKp_O",
        "colab_type": "code",
        "colab": {
          "base_uri": "https://localhost:8080/",
          "height": 74
        },
        "outputId": "b8e84020-cc31-4219-fccf-9139789df963"
      },
      "cell_type": "code",
      "source": [
        "params = {'objective': 'rank:pairwise', 'eval_metric' : 'ndcg'}\n",
        "xgb_model = xgb.train(params, train_dmatrix, num_boost_round=100, verbose_eval=50,\n",
        "                           evals=[(valid_dmatrix, 'validation')])"
      ],
      "execution_count": 100,
      "outputs": [
        {
          "output_type": "stream",
          "text": [
            "[0]\tvalidation-ndcg:0.826776\n",
            "[50]\tvalidation-ndcg:0.870235\n",
            "[99]\tvalidation-ndcg:0.87173\n"
          ],
          "name": "stdout"
        }
      ]
    },
    {
      "metadata": {
        "id": "3z4LYcM3pFOu",
        "colab_type": "text"
      },
      "cell_type": "markdown",
      "source": [
        "Подберём параметры."
      ]
    },
    {
      "metadata": {
        "id": "trynvTHXgvwv",
        "colab_type": "code",
        "colab": {
          "base_uri": "https://localhost:8080/",
          "height": 3451
        },
        "outputId": "dae10b5b-f06e-44d6-eac4-16663f7bdb50"
      },
      "cell_type": "code",
      "source": [
        "objective = 'rank:pairwise'\n",
        "search_for_one_param('lambda', np.linspace(0, 25, 10), objective=objective)\n",
        "search_for_two_params('max_depth', range(3, 10, 2), 'min_child_weight', [4, 5, 6], objective=objective)\n",
        "search_for_one_param('gamma', [i / 10.0 for i in range(0, 5)], objective=objective)\n",
        "search_for_two_params('subsample', [i / 10.0 for i in range(6, 10)], \n",
        "                      'colsample_bytree', [i / 10.0 for i in range(6, 10)], \n",
        "                       objective=objective)\n",
        "search_for_one_param('reg_alpha', [0, 0.001, 0.005, 0.01, 0.05], objective=objective)"
      ],
      "execution_count": 0,
      "outputs": [
        {
          "output_type": "stream",
          "text": [
            "lambda = 0.0\n",
            "[0]\tvalidation-ndcg:0.826595\n",
            "[99]\tvalidation-ndcg:0.86956\n",
            "\n",
            "lambda = 2.7777777777777777\n",
            "[0]\tvalidation-ndcg:0.826277\n",
            "[99]\tvalidation-ndcg:0.87082\n",
            "\n",
            "lambda = 5.555555555555555\n",
            "[0]\tvalidation-ndcg:0.825881\n",
            "[99]\tvalidation-ndcg:0.870861\n",
            "\n",
            "lambda = 8.333333333333332\n",
            "[0]\tvalidation-ndcg:0.82471\n",
            "[99]\tvalidation-ndcg:0.869596\n",
            "\n",
            "lambda = 11.11111111111111\n",
            "[0]\tvalidation-ndcg:0.824727\n",
            "[99]\tvalidation-ndcg:0.870992\n",
            "\n",
            "lambda = 13.88888888888889\n",
            "[0]\tvalidation-ndcg:0.824776\n",
            "[99]\tvalidation-ndcg:0.870065\n",
            "\n",
            "lambda = 16.666666666666664\n",
            "[0]\tvalidation-ndcg:0.824776\n",
            "[99]\tvalidation-ndcg:0.872437\n",
            "\n",
            "lambda = 19.444444444444443\n",
            "[0]\tvalidation-ndcg:0.825033\n",
            "[99]\tvalidation-ndcg:0.870377\n",
            "\n",
            "lambda = 22.22222222222222\n",
            "[0]\tvalidation-ndcg:0.824938\n",
            "[99]\tvalidation-ndcg:0.87291\n",
            "\n",
            "lambda = 25.0\n",
            "[0]\tvalidation-ndcg:0.824873\n",
            "[99]\tvalidation-ndcg:0.873696\n",
            "\n",
            "\n",
            "max_depth = 3, min_child_weight = 4\n",
            "[0]\tvalidation-ndcg:0.817668\n",
            "[99]\tvalidation-ndcg:0.868179\n",
            "\n",
            "max_depth = 3, min_child_weight = 5\n",
            "[0]\tvalidation-ndcg:0.817668\n",
            "[99]\tvalidation-ndcg:0.867683\n",
            "\n",
            "max_depth = 3, min_child_weight = 6\n",
            "[0]\tvalidation-ndcg:0.817668\n",
            "[99]\tvalidation-ndcg:0.867513\n",
            "\n",
            "max_depth = 5, min_child_weight = 4\n",
            "[0]\tvalidation-ndcg:0.821323\n",
            "[99]\tvalidation-ndcg:0.872159\n",
            "\n",
            "max_depth = 5, min_child_weight = 5\n",
            "[0]\tvalidation-ndcg:0.821323\n",
            "[99]\tvalidation-ndcg:0.871979\n",
            "\n",
            "max_depth = 5, min_child_weight = 6\n",
            "[0]\tvalidation-ndcg:0.821323\n",
            "[99]\tvalidation-ndcg:0.871047\n",
            "\n",
            "max_depth = 7, min_child_weight = 4\n",
            "[0]\tvalidation-ndcg:0.82947\n",
            "[99]\tvalidation-ndcg:0.86838\n",
            "\n",
            "max_depth = 7, min_child_weight = 5\n",
            "[0]\tvalidation-ndcg:0.829412\n",
            "[99]\tvalidation-ndcg:0.870336\n",
            "\n",
            "max_depth = 7, min_child_weight = 6\n",
            "[0]\tvalidation-ndcg:0.82948\n",
            "[99]\tvalidation-ndcg:0.870442\n",
            "\n",
            "max_depth = 9, min_child_weight = 4\n",
            "[0]\tvalidation-ndcg:0.82678\n",
            "[99]\tvalidation-ndcg:0.866646\n",
            "\n",
            "max_depth = 9, min_child_weight = 5\n",
            "[0]\tvalidation-ndcg:0.827151\n",
            "[99]\tvalidation-ndcg:0.866663\n",
            "\n",
            "max_depth = 9, min_child_weight = 6\n",
            "[0]\tvalidation-ndcg:0.826975\n",
            "[99]\tvalidation-ndcg:0.868323\n",
            "\n",
            "\n",
            "gamma = 0.0\n",
            "[0]\tvalidation-ndcg:0.826776\n",
            "[99]\tvalidation-ndcg:0.87173\n",
            "\n",
            "gamma = 0.1\n",
            "[0]\tvalidation-ndcg:0.826775\n",
            "[99]\tvalidation-ndcg:0.871425\n",
            "\n",
            "gamma = 0.2\n",
            "[0]\tvalidation-ndcg:0.826775\n",
            "[99]\tvalidation-ndcg:0.870596\n",
            "\n",
            "gamma = 0.3\n",
            "[0]\tvalidation-ndcg:0.826775\n",
            "[99]\tvalidation-ndcg:0.870753\n",
            "\n",
            "gamma = 0.4\n",
            "[0]\tvalidation-ndcg:0.826775\n",
            "[99]\tvalidation-ndcg:0.870781\n",
            "\n",
            "\n",
            "subsample = 0.6, colsample_bytree = 0.6\n",
            "[0]\tvalidation-ndcg:0.823108\n",
            "[99]\tvalidation-ndcg:0.871198\n",
            "\n",
            "subsample = 0.6, colsample_bytree = 0.7\n",
            "[0]\tvalidation-ndcg:0.825474\n",
            "[99]\tvalidation-ndcg:0.868464\n",
            "\n",
            "subsample = 0.6, colsample_bytree = 0.8\n",
            "[0]\tvalidation-ndcg:0.826467\n",
            "[99]\tvalidation-ndcg:0.872068\n",
            "\n",
            "subsample = 0.6, colsample_bytree = 0.9\n",
            "[0]\tvalidation-ndcg:0.822588\n",
            "[99]\tvalidation-ndcg:0.870336\n",
            "\n",
            "subsample = 0.7, colsample_bytree = 0.6\n",
            "[0]\tvalidation-ndcg:0.823677\n",
            "[99]\tvalidation-ndcg:0.870873\n",
            "\n",
            "subsample = 0.7, colsample_bytree = 0.7\n",
            "[0]\tvalidation-ndcg:0.821749\n",
            "[99]\tvalidation-ndcg:0.870897\n",
            "\n",
            "subsample = 0.7, colsample_bytree = 0.8\n",
            "[0]\tvalidation-ndcg:0.823406\n",
            "[99]\tvalidation-ndcg:0.871415\n",
            "\n",
            "subsample = 0.7, colsample_bytree = 0.9\n",
            "[0]\tvalidation-ndcg:0.823986\n",
            "[99]\tvalidation-ndcg:0.869099\n",
            "\n",
            "subsample = 0.8, colsample_bytree = 0.6\n",
            "[0]\tvalidation-ndcg:0.825332\n",
            "[99]\tvalidation-ndcg:0.872161\n",
            "\n",
            "subsample = 0.8, colsample_bytree = 0.7\n",
            "[0]\tvalidation-ndcg:0.82377\n",
            "[99]\tvalidation-ndcg:0.871812\n",
            "\n",
            "subsample = 0.8, colsample_bytree = 0.8\n",
            "[0]\tvalidation-ndcg:0.825748\n",
            "[99]\tvalidation-ndcg:0.867392\n",
            "\n",
            "subsample = 0.8, colsample_bytree = 0.9\n",
            "[0]\tvalidation-ndcg:0.826482\n",
            "[99]\tvalidation-ndcg:0.872962\n",
            "\n",
            "subsample = 0.9, colsample_bytree = 0.6\n",
            "[0]\tvalidation-ndcg:0.82206\n",
            "[99]\tvalidation-ndcg:0.871878\n",
            "\n",
            "subsample = 0.9, colsample_bytree = 0.7\n",
            "[0]\tvalidation-ndcg:0.822257\n",
            "[99]\tvalidation-ndcg:0.8697\n",
            "\n",
            "subsample = 0.9, colsample_bytree = 0.8\n",
            "[0]\tvalidation-ndcg:0.821719\n",
            "[99]\tvalidation-ndcg:0.870234\n",
            "\n",
            "subsample = 0.9, colsample_bytree = 0.9\n",
            "[0]\tvalidation-ndcg:0.825936\n",
            "[99]\tvalidation-ndcg:0.869402\n",
            "\n",
            "\n",
            "reg_alpha = 0\n",
            "[0]\tvalidation-ndcg:0.826776\n",
            "[99]\tvalidation-ndcg:0.87173\n",
            "\n",
            "reg_alpha = 0.001\n",
            "[0]\tvalidation-ndcg:0.826776\n"
          ],
          "name": "stdout"
        }
      ]
    },
    {
      "metadata": {
        "id": "m1KPeWhNm1BD",
        "colab_type": "code",
        "colab": {
          "base_uri": "https://localhost:8080/",
          "height": 92
        },
        "outputId": "30b37d98-424f-490e-ebcd-895f130708d0"
      },
      "cell_type": "code",
      "source": [
        "params = {'objective': 'rank:pairwise',\n",
        "\t\t'eval_metric' : 'ndcg',\n",
        "\t\t'lambda': 0, \n",
        "\t\t 'max_depth': 7,\n",
        "\t\t'gamma': 0,\n",
        "\t\t'min_child_weight' : 6,\n",
        "\t\t 'subsample': 0.8,\n",
        "     'colsample_bytree': 0.9,\n",
        "\t\t'reg_alpha': 0.01}\n",
        "\n",
        "\n",
        "xgb_model = xgb.train(params, train_dmatrix, num_boost_round=4,\n",
        "                           evals=[(valid_dmatrix, 'validation')])"
      ],
      "execution_count": 60,
      "outputs": [
        {
          "output_type": "stream",
          "text": [
            "[0]\tvalidation-ndcg:0.826863\n",
            "[1]\tvalidation-ndcg:0.837534\n",
            "[2]\tvalidation-ndcg:0.842911\n",
            "[3]\tvalidation-ndcg:0.843957\n"
          ],
          "name": "stdout"
        }
      ]
    },
    {
      "metadata": {
        "id": "0IE0y5k0nOBt",
        "colab_type": "text"
      },
      "cell_type": "markdown",
      "source": [
        "Прошлый результат был лучше.  \n",
        "\n",
        "[0]\tvalidation-ndcg:0.831313  \n",
        "[1]\tvalidation-ndcg:0.840101  \n",
        "[2]\tvalidation-ndcg:0.845807  \n",
        "[3]\tvalidation-ndcg:0.851514  \n"
      ]
    },
    {
      "metadata": {
        "id": "cacd5qASYim3",
        "colab_type": "code",
        "colab": {
          "base_uri": "https://localhost:8080/",
          "height": 92
        },
        "outputId": "ee7cef73-f4a9-4d42-9e09-99462863a318"
      },
      "cell_type": "code",
      "source": [
        "params = {'objective': 'rank:ndcg', 'eval_metric' : 'ndcg'}\n",
        "xgb_model = xgb.train(params, train_dmatrix, num_boost_round=4,\n",
        "                           evals=[(valid_dmatrix, 'validation')])"
      ],
      "execution_count": 176,
      "outputs": [
        {
          "output_type": "stream",
          "text": [
            "[0]\tvalidation-ndcg:0.838937\n",
            "[1]\tvalidation-ndcg:0.84245\n",
            "[2]\tvalidation-ndcg:0.842455\n",
            "[3]\tvalidation-ndcg:0.845526\n"
          ],
          "name": "stdout"
        }
      ]
    },
    {
      "metadata": {
        "id": "LhAt1J9lndnP",
        "colab_type": "code",
        "colab": {
          "base_uri": "https://localhost:8080/",
          "height": 3734
        },
        "outputId": "a7414edd-5496-4853-bfd0-02e3b7dfb50a"
      },
      "cell_type": "code",
      "source": [
        "objective = 'rank:ndcg'\n",
        "search_for_one_param('lambda', np.linspace(0, 25, 10), objective=objective)\n",
        "search_for_two_params('max_depth', range(3, 10, 2), 'min_child_weight', [4, 5, 6], objective=objective)\n",
        "search_for_one_param('gamma', [i / 10.0 for i in range(0, 5)], objective=objective)\n",
        "search_for_two_params('subsample', [i / 10.0 for i in range(6, 10)], \n",
        "                      'colsample_bytree', [i / 10.0 for i in range(6, 10)], \n",
        "                       objective=objective)\n",
        "search_for_one_param('reg_alpha', [0, 0.001, 0.005, 0.01, 0.05], objective=objective)"
      ],
      "execution_count": 97,
      "outputs": [
        {
          "output_type": "stream",
          "text": [
            "lambda = 0.0\n",
            "[0]\tvalidation-ndcg:0.829762\n",
            "[99]\tvalidation-ndcg:0.868528\n",
            "\n",
            "lambda = 2.7777777777777777\n",
            "[0]\tvalidation-ndcg:0.830847\n",
            "[99]\tvalidation-ndcg:0.868187\n",
            "\n",
            "lambda = 5.555555555555555\n",
            "[0]\tvalidation-ndcg:0.832971\n",
            "[99]\tvalidation-ndcg:0.86817\n",
            "\n",
            "lambda = 8.333333333333332\n",
            "[0]\tvalidation-ndcg:0.832983\n",
            "[99]\tvalidation-ndcg:0.866062\n",
            "\n",
            "lambda = 11.11111111111111\n",
            "[0]\tvalidation-ndcg:0.832736\n",
            "[99]\tvalidation-ndcg:0.871226\n",
            "\n",
            "lambda = 13.88888888888889\n",
            "[0]\tvalidation-ndcg:0.832596\n",
            "[99]\tvalidation-ndcg:0.870343\n",
            "\n",
            "lambda = 16.666666666666664\n",
            "[0]\tvalidation-ndcg:0.831487\n",
            "[99]\tvalidation-ndcg:0.870221\n",
            "\n",
            "lambda = 19.444444444444443\n",
            "[0]\tvalidation-ndcg:0.833418\n",
            "[99]\tvalidation-ndcg:0.870462\n",
            "\n",
            "lambda = 22.22222222222222\n",
            "[0]\tvalidation-ndcg:0.833159\n",
            "[99]\tvalidation-ndcg:0.869664\n",
            "\n",
            "lambda = 25.0\n",
            "[0]\tvalidation-ndcg:0.832958\n",
            "[99]\tvalidation-ndcg:0.868203\n",
            "\n",
            "\n",
            "max_depth = 3, min_child_weight = 4\n",
            "[0]\tvalidation-ndcg:0.822615\n",
            "[99]\tvalidation-ndcg:0.863936\n",
            "\n",
            "max_depth = 3, min_child_weight = 5\n",
            "[0]\tvalidation-ndcg:0.822615\n",
            "[99]\tvalidation-ndcg:0.863981\n",
            "\n",
            "max_depth = 3, min_child_weight = 6\n",
            "[0]\tvalidation-ndcg:0.822615\n",
            "[99]\tvalidation-ndcg:0.864639\n",
            "\n",
            "max_depth = 5, min_child_weight = 4\n",
            "[0]\tvalidation-ndcg:0.828762\n",
            "[99]\tvalidation-ndcg:0.868132\n",
            "\n",
            "max_depth = 5, min_child_weight = 5\n",
            "[0]\tvalidation-ndcg:0.829335\n",
            "[99]\tvalidation-ndcg:0.86701\n",
            "\n",
            "max_depth = 5, min_child_weight = 6\n",
            "[0]\tvalidation-ndcg:0.82937\n",
            "[99]\tvalidation-ndcg:0.867824\n",
            "\n",
            "max_depth = 7, min_child_weight = 4\n",
            "[0]\tvalidation-ndcg:0.830765\n",
            "[99]\tvalidation-ndcg:0.866729\n",
            "\n",
            "max_depth = 7, min_child_weight = 5\n",
            "[0]\tvalidation-ndcg:0.830835\n",
            "[99]\tvalidation-ndcg:0.868643\n",
            "\n",
            "max_depth = 7, min_child_weight = 6\n",
            "[0]\tvalidation-ndcg:0.830204\n",
            "[99]\tvalidation-ndcg:0.867963\n",
            "\n",
            "max_depth = 9, min_child_weight = 4\n",
            "[0]\tvalidation-ndcg:0.826948\n",
            "[99]\tvalidation-ndcg:0.868369\n",
            "\n",
            "max_depth = 9, min_child_weight = 5\n",
            "[0]\tvalidation-ndcg:0.828061\n",
            "[99]\tvalidation-ndcg:0.869462\n",
            "\n",
            "max_depth = 9, min_child_weight = 6\n",
            "[0]\tvalidation-ndcg:0.828125\n",
            "[99]\tvalidation-ndcg:0.86697\n",
            "\n",
            "\n",
            "gamma = 0.0\n",
            "[0]\tvalidation-ndcg:0.829617\n",
            "[99]\tvalidation-ndcg:0.867046\n",
            "\n",
            "gamma = 0.1\n",
            "[0]\tvalidation-ndcg:0.82956\n",
            "[99]\tvalidation-ndcg:0.867843\n",
            "\n",
            "gamma = 0.2\n",
            "[0]\tvalidation-ndcg:0.829659\n",
            "[99]\tvalidation-ndcg:0.866517\n",
            "\n",
            "gamma = 0.3\n",
            "[0]\tvalidation-ndcg:0.829659\n",
            "[99]\tvalidation-ndcg:0.868849\n",
            "\n",
            "gamma = 0.4\n",
            "[0]\tvalidation-ndcg:0.829644\n",
            "[99]\tvalidation-ndcg:0.869098\n",
            "\n",
            "\n",
            "subsample = 0.6, colsample_bytree = 0.6\n",
            "[0]\tvalidation-ndcg:0.820626\n",
            "[99]\tvalidation-ndcg:0.865612\n",
            "\n",
            "subsample = 0.6, colsample_bytree = 0.7\n",
            "[0]\tvalidation-ndcg:0.82656\n",
            "[99]\tvalidation-ndcg:0.865377\n",
            "\n",
            "subsample = 0.6, colsample_bytree = 0.8\n",
            "[0]\tvalidation-ndcg:0.827055\n",
            "[99]\tvalidation-ndcg:0.865851\n",
            "\n",
            "subsample = 0.6, colsample_bytree = 0.9\n",
            "[0]\tvalidation-ndcg:0.825354\n",
            "[99]\tvalidation-ndcg:0.864704\n",
            "\n",
            "subsample = 0.7, colsample_bytree = 0.6\n",
            "[0]\tvalidation-ndcg:0.82438\n",
            "[99]\tvalidation-ndcg:0.866701\n",
            "\n",
            "subsample = 0.7, colsample_bytree = 0.7\n",
            "[0]\tvalidation-ndcg:0.825235\n",
            "[99]\tvalidation-ndcg:0.86723\n",
            "\n",
            "subsample = 0.7, colsample_bytree = 0.8\n",
            "[0]\tvalidation-ndcg:0.82461\n",
            "[99]\tvalidation-ndcg:0.863879\n",
            "\n",
            "subsample = 0.7, colsample_bytree = 0.9\n",
            "[0]\tvalidation-ndcg:0.825506\n",
            "[99]\tvalidation-ndcg:0.867937\n",
            "\n",
            "subsample = 0.8, colsample_bytree = 0.6\n",
            "[0]\tvalidation-ndcg:0.825529\n",
            "[99]\tvalidation-ndcg:0.864815\n",
            "\n",
            "subsample = 0.8, colsample_bytree = 0.7\n",
            "[0]\tvalidation-ndcg:0.828273\n",
            "[99]\tvalidation-ndcg:0.866745\n",
            "\n",
            "subsample = 0.8, colsample_bytree = 0.8\n",
            "[0]\tvalidation-ndcg:0.82761\n",
            "[99]\tvalidation-ndcg:0.86543\n",
            "\n",
            "subsample = 0.8, colsample_bytree = 0.9\n",
            "[0]\tvalidation-ndcg:0.828058\n",
            "[99]\tvalidation-ndcg:0.868357\n",
            "\n",
            "subsample = 0.9, colsample_bytree = 0.6\n",
            "[0]\tvalidation-ndcg:0.825781\n",
            "[99]\tvalidation-ndcg:0.86888\n",
            "\n",
            "subsample = 0.9, colsample_bytree = 0.7\n",
            "[0]\tvalidation-ndcg:0.828489\n",
            "[99]\tvalidation-ndcg:0.866025\n",
            "\n",
            "subsample = 0.9, colsample_bytree = 0.8\n",
            "[0]\tvalidation-ndcg:0.825832\n",
            "[99]\tvalidation-ndcg:0.867179\n",
            "\n",
            "subsample = 0.9, colsample_bytree = 0.9\n",
            "[0]\tvalidation-ndcg:0.825727\n",
            "[99]\tvalidation-ndcg:0.865739\n",
            "\n",
            "\n",
            "reg_alpha = 0\n",
            "[0]\tvalidation-ndcg:0.829617\n",
            "[99]\tvalidation-ndcg:0.867046\n",
            "\n",
            "reg_alpha = 0.001\n",
            "[0]\tvalidation-ndcg:0.829617\n",
            "[99]\tvalidation-ndcg:0.870684\n",
            "\n",
            "reg_alpha = 0.005\n",
            "[0]\tvalidation-ndcg:0.829617\n",
            "[99]\tvalidation-ndcg:0.868004\n",
            "\n",
            "reg_alpha = 0.01\n",
            "[0]\tvalidation-ndcg:0.829504\n",
            "[99]\tvalidation-ndcg:0.869509\n",
            "\n",
            "reg_alpha = 0.05\n",
            "[0]\tvalidation-ndcg:0.831384\n",
            "[99]\tvalidation-ndcg:0.866936\n",
            "\n",
            "\n"
          ],
          "name": "stdout"
        }
      ]
    },
    {
      "metadata": {
        "id": "9uh8ay4Vor0X",
        "colab_type": "code",
        "colab": {
          "base_uri": "https://localhost:8080/",
          "height": 92
        },
        "outputId": "c2accb73-73f4-4875-d02a-58aae1f7e4ba"
      },
      "cell_type": "code",
      "source": [
        "params = {'objective': 'rank:ndcg’,\n",
        " \t\t'eval_metric' : 'ndcg',\n",
        "\t\t'lambda': 11.11111111111111, \n",
        "\t\t 'max_depth': 9,\n",
        "\t\t'gamma': 0.2,\n",
        "\t\t'min_child_weight' : 5,\n",
        "\t\t 'subsample': 0.9,\n",
        "     'colsample_bytree': 0.6,\n",
        "\t\t'reg_alpha': 0.001}\n",
        "\n",
        "xgb_model = xgb.train(params, train_dmatrix, num_boost_round=4,\n",
        "                           evals=[(valid_dmatrix, 'validation')])"
      ],
      "execution_count": 56,
      "outputs": [
        {
          "output_type": "stream",
          "text": [
            "[0]\tvalidation-ndcg:0.827323\n",
            "[1]\tvalidation-ndcg:0.837183\n",
            "[2]\tvalidation-ndcg:0.843077\n",
            "[3]\tvalidation-ndcg:0.844363\n"
          ],
          "name": "stdout"
        }
      ]
    },
    {
      "metadata": {
        "id": "PvKJQ3Yho5bP",
        "colab_type": "text"
      },
      "cell_type": "markdown",
      "source": [
        "И снова хуже, чем предыдущий результат.\n",
        "\n",
        "[0]\tvalidation-ndcg:0.838937  \n",
        "[1]\tvalidation-ndcg:0.84245  \n",
        "[2]\tvalidation-ndcg:0.842455  \n",
        "[3]\tvalidation-ndcg:0.845526  "
      ]
    },
    {
      "metadata": {
        "id": "uQY7l70dHLs4",
        "colab_type": "text"
      },
      "cell_type": "markdown",
      "source": [
        "#### Пользовательская функция потерь\n",
        "\n",
        "Библиотека XGBoost позволяет использовать пользовательские функции потерь. Для этого необходимо реализовать функцию, принимающую на вход вектор предсказанных значений и обучающую выборку, и возвращающую градиент и гессиан, посчитанный по входным данным.\n",
        "\n",
        "Важно отметить, что XGBoost использует диагональную аппроксимацию гессиана, таким образом все недиагональные элементы считаются малозначимыми и приравниваются нулю, поэтому и градиент, и гессиан являются векторами длины размера обучающей выборки.\n",
        "\n",
        "**(4 балла) Задание 12.** Реализуйте экспоненциальную функцию потерь для XGBoost:\n",
        "$$ Obj = \\sum_{i \\prec j} \\mathcal{L}\\left(a(x_j) - a(x_i)\\right) \\rightarrow min $$ $$ \\mathcal{L}(M) = e^{-M} $$\n",
        "\n",
        "Обучите модель с помощью данной функции потерь, настройте параметры."
      ]
    },
    {
      "metadata": {
        "id": "oTU6nuNUHLs5",
        "colab_type": "text"
      },
      "cell_type": "markdown",
      "source": [
        "**Комментарии к реализации**\n",
        "\n",
        "В случае ранжирования XGBoost'у необходимо знать о разбиении всех объектов на группы. В нашем случае в одну группу будут входить документы, соответствующие одному запросу. Функция, считающая градиент и гессиан по данным, должна знать данное разбиение датасета. Однако питоновский интерфейс класса *DMatrix* (в котором хранится датасет) не дает возможности получить это разбиение. В этом случае нужно реализовать функцию потерь в качестве функтора, конструктор которого принимает разбиение на группы в качестве параметра.\n",
        "\n",
        "Пример реализации своей функции потерь можно найти на соответствующем семинаре."
      ]
    },
    {
      "metadata": {
        "id": "xEaO-McTHLs7",
        "colab_type": "code",
        "colab": {}
      },
      "cell_type": "code",
      "source": [
        "class ExponentialPairwiseLoss(object):\n",
        "    def __init__(self, groups):\n",
        "        self.groups = groups\n",
        "                        \n",
        "    def __call__(self, preds, dtrain):\n",
        "        # your code here\n",
        "        pass"
      ],
      "execution_count": 0,
      "outputs": []
    },
    {
      "metadata": {
        "id": "9ULStJIqHLtB",
        "colab_type": "code",
        "colab": {}
      },
      "cell_type": "code",
      "source": [
        "train_dmatrix = DMatrix(X_train[X_train.columns[:-1]], y_train)\n",
        "valid_dmatrix = DMatrix(X_test[X_test.columns[:-1]], y_test)\n",
        "\n",
        "train_dmatrix.set_group(train_lengths)\n",
        "valid_dmatrix.set_group(test_lengths)\n",
        "\n",
        "params = {'objective': 'reg:linear', 'eval_metric' : 'ndcg'}\n",
        "xgb_model = xgb.train(params, train_dmatrix, num_boost_round=4,\n",
        "                           evals=[(valid_dmatrix, 'validation')])"
      ],
      "execution_count": 0,
      "outputs": []
    },
    {
      "metadata": {
        "id": "3YBsE_6P9i2e",
        "colab_type": "code",
        "colab": {
          "base_uri": "https://localhost:8080/",
          "height": 111
        },
        "outputId": "df83764d-9df0-4091-a183-f8d95fc733a0"
      },
      "cell_type": "code",
      "source": [
        "train_dmatrix.get_label()[:50]"
      ],
      "execution_count": 65,
      "outputs": [
        {
          "output_type": "execute_result",
          "data": {
            "text/plain": [
              "array([1. , 1. , 1. , 1. , 1. , 1. , 1. , 1. , 1. , 1. , 1. , 1. , 1. ,\n",
              "       1. , 2. , 0. , 0. , 0. , 0. , 2. , 1. , 1. , 0. , 0. , 0. , 0. ,\n",
              "       1. , 2. , 2. , 1. , 1. , 1. , 1. , 0. , 0. , 0. , 0. , 0. , 0. ,\n",
              "       0. , 2.5, 0. , 0. , 1. , 0. , 1. , 0. , 0. , 0. , 0. ],\n",
              "      dtype=float32)"
            ]
          },
          "metadata": {
            "tags": []
          },
          "execution_count": 65
        }
      ]
    },
    {
      "metadata": {
        "id": "X7iODiPrHLtG",
        "colab_type": "text"
      },
      "cell_type": "markdown",
      "source": [
        "**(1 балл) Задание 13.** Сравните построенные модели с точки зрения метрики nDCG на контроле и проанализируйте полученные результаты:\n",
        "  - какая модель работает лучше всего для данной задачи? \n",
        "  - в чем достоинства/недостатки каждой? \n",
        "  - сравните модели между собой: \n",
        "   - получается ли сравнимое качество линейного pointwise подхода с остальными моделями? \n",
        "   - заметна ли разница в качестве при использовании бустинга с разными функциями потерь?"
      ]
    },
    {
      "metadata": {
        "id": "TwJDRvjeS_4s",
        "colab_type": "text"
      },
      "cell_type": "markdown",
      "source": [
        "Лучший результат пока что показал pointwise-подход с бустингом: validation-ndcg:0.854367."
      ]
    },
    {
      "metadata": {
        "id": "W9C6Ll3EHLtH",
        "colab_type": "code",
        "colab": {}
      },
      "cell_type": "code",
      "source": [
        ""
      ],
      "execution_count": 0,
      "outputs": []
    }
  ]
}